{
 "cells": [
  {
   "cell_type": "code",
   "execution_count": null,
   "id": "fbc33805",
   "metadata": {},
   "outputs": [],
   "source": [
    "import os\n",
    "import requests as rq\n",
    "import pandas as pd\n",
    "import numpy as np\n",
    "import time\n",
    "import json\n",
    "import re\n",
    "from bs4 import BeautifulSoup\n",
    "from selenium import webdriver\n",
    "from selenium.webdriver.support.ui import Select \n",
    "from webdriver_manager.chrome import ChromeDriverManager\n",
    "from tqdm import tqdm,trange\n",
    "from PIL import Image"
   ]
  },
  {
   "cell_type": "code",
   "execution_count": 9,
   "id": "49db6e13",
   "metadata": {},
   "outputs": [],
   "source": [
    "with open(\"cinema.json\") as f:    # 前面爬到的影城ID 對應表\n",
    "    cinema = json.load(f)    "
   ]
  },
  {
   "cell_type": "code",
   "execution_count": 2,
   "id": "2c56d0b0",
   "metadata": {},
   "outputs": [],
   "source": [
    "Select_Box = []"
   ]
  },
  {
   "cell_type": "code",
   "execution_count": 20,
   "id": "609d5481",
   "metadata": {},
   "outputs": [
    {
     "name": "stderr",
     "output_type": "stream",
     "text": [
      "C:\\Users\\User\\AppData\\Local\\Temp\\ipykernel_12600\\4079977351.py:1: DeprecationWarning: executable_path has been deprecated, please pass in a Service object\n",
      "  driver = webdriver.Chrome(ChromeDriverManager().install()) # install driver\n"
     ]
    },
    {
     "name": "stdout",
     "output_type": "stream",
     "text": [
      "[<selenium.webdriver.remote.webelement.WebElement (session=\"f7b0c406a9c15813c018d8360abe9631\", element=\"76f0c1f2-35c9-4cb8-9a2a-15bcb4002121\")>, <selenium.webdriver.remote.webelement.WebElement (session=\"f7b0c406a9c15813c018d8360abe9631\", element=\"c46051a9-2dc1-4f96-9ec5-035ccbf3f0ef\")>, <selenium.webdriver.remote.webelement.WebElement (session=\"f7b0c406a9c15813c018d8360abe9631\", element=\"b7de3d36-ffcb-4c7f-a1b6-0d19b1c2f883\")>, <selenium.webdriver.remote.webelement.WebElement (session=\"f7b0c406a9c15813c018d8360abe9631\", element=\"5432c2ed-8e42-405b-9de3-ae841b9c0fa8\")>, <selenium.webdriver.remote.webelement.WebElement (session=\"f7b0c406a9c15813c018d8360abe9631\", element=\"e9240779-9df6-48ee-9217-1574d5681c01\")>, <selenium.webdriver.remote.webelement.WebElement (session=\"f7b0c406a9c15813c018d8360abe9631\", element=\"65e3ff92-5598-463a-a3b2-82cab65ec0da\")>, <selenium.webdriver.remote.webelement.WebElement (session=\"f7b0c406a9c15813c018d8360abe9631\", element=\"9c0ae62f-7894-4afc-af47-02d96a8df3f1\")>, <selenium.webdriver.remote.webelement.WebElement (session=\"f7b0c406a9c15813c018d8360abe9631\", element=\"404e1b2c-289e-4b66-b3e1-fc0edff1d36c\")>, <selenium.webdriver.remote.webelement.WebElement (session=\"f7b0c406a9c15813c018d8360abe9631\", element=\"b1592443-006d-4301-8a71-8d778390ea3b\")>, <selenium.webdriver.remote.webelement.WebElement (session=\"f7b0c406a9c15813c018d8360abe9631\", element=\"02b6d31a-78f2-4461-9287-4b61d3279012\")>, <selenium.webdriver.remote.webelement.WebElement (session=\"f7b0c406a9c15813c018d8360abe9631\", element=\"47e041f7-1579-4648-9cc7-cefefc66557d\")>, <selenium.webdriver.remote.webelement.WebElement (session=\"f7b0c406a9c15813c018d8360abe9631\", element=\"22bd8645-ba65-46fa-98a1-a164d4b43660\")>, <selenium.webdriver.remote.webelement.WebElement (session=\"f7b0c406a9c15813c018d8360abe9631\", element=\"c7b70e78-1cd0-4f41-ac99-98c9ba8faddc\")>, <selenium.webdriver.remote.webelement.WebElement (session=\"f7b0c406a9c15813c018d8360abe9631\", element=\"e8b72df6-b8b4-4f14-aeb0-4373ea2475fb\")>, <selenium.webdriver.remote.webelement.WebElement (session=\"f7b0c406a9c15813c018d8360abe9631\", element=\"d6f31f1b-8b66-42a2-a32f-d06e709ce3f8\")>, <selenium.webdriver.remote.webelement.WebElement (session=\"f7b0c406a9c15813c018d8360abe9631\", element=\"ccea1675-eb2c-4e52-8839-05c1c2ea6d62\")>, <selenium.webdriver.remote.webelement.WebElement (session=\"f7b0c406a9c15813c018d8360abe9631\", element=\"9a69bd3a-2196-430a-8116-08e4e723531e\")>, <selenium.webdriver.remote.webelement.WebElement (session=\"f7b0c406a9c15813c018d8360abe9631\", element=\"a168477a-d930-4a6b-9081-77fc9901c5aa\")>, <selenium.webdriver.remote.webelement.WebElement (session=\"f7b0c406a9c15813c018d8360abe9631\", element=\"04f4e0cd-d5de-4c35-a0c1-8f823c2970dd\")>, <selenium.webdriver.remote.webelement.WebElement (session=\"f7b0c406a9c15813c018d8360abe9631\", element=\"9f26c7f0-1486-4a06-90cc-441d0d2fd2c8\")>, <selenium.webdriver.remote.webelement.WebElement (session=\"f7b0c406a9c15813c018d8360abe9631\", element=\"43ebae47-b73c-41f2-9321-18830b3b8982\")>, <selenium.webdriver.remote.webelement.WebElement (session=\"f7b0c406a9c15813c018d8360abe9631\", element=\"e3d74398-62a7-4063-bf1f-1ec1ee4b7a7b\")>, <selenium.webdriver.remote.webelement.WebElement (session=\"f7b0c406a9c15813c018d8360abe9631\", element=\"c2c6a96f-994e-4bd4-b6b4-aecf2188320a\")>, <selenium.webdriver.remote.webelement.WebElement (session=\"f7b0c406a9c15813c018d8360abe9631\", element=\"a2b4843e-a46f-4cd2-8764-f2ac95e0fc4e\")>, <selenium.webdriver.remote.webelement.WebElement (session=\"f7b0c406a9c15813c018d8360abe9631\", element=\"d2c75f9e-a3ba-4424-bed1-241d50a46daa\")>]\n"
     ]
    },
    {
     "ename": "NameError",
     "evalue": "name 'option_defaulttoi' is not defined",
     "output_type": "error",
     "traceback": [
      "\u001b[1;31m---------------------------------------------------------------------------\u001b[0m",
      "\u001b[1;31mNameError\u001b[0m                                 Traceback (most recent call last)",
      "Cell \u001b[1;32mIn [20], line 7\u001b[0m\n\u001b[0;32m      5\u001b[0m \u001b[38;5;28mprint\u001b[39m(select\u001b[38;5;241m.\u001b[39moptions)\n\u001b[0;32m      6\u001b[0m \u001b[38;5;28;01mfor\u001b[39;00m op \u001b[38;5;129;01min\u001b[39;00m select\u001b[38;5;241m.\u001b[39moptions:\n\u001b[1;32m----> 7\u001b[0m     \u001b[38;5;28;01mif\u001b[39;00m option_defaulttoi:\n\u001b[0;32m      8\u001b[0m         \u001b[38;5;28;01mcontinue\u001b[39;00m\n\u001b[0;32m      9\u001b[0m     \u001b[38;5;28;01melse\u001b[39;00m:\n",
      "\u001b[1;31mNameError\u001b[0m: name 'option_defaulttoi' is not defined"
     ]
    }
   ],
   "source": [
    "driver = webdriver.Chrome(ChromeDriverManager().install()) # install driver\n",
    "driver.get(\"https://www.vscinemas.com.tw/ShowTimes\")\n",
    "select = Select(driver.find_element(\"name\",'CinemaNameTWInfoF'))\n",
    "option_default = True;\n",
    "for op in select.options:\n",
    "    if option_default:\n",
    "        option_default = False\n",
    "        continue\n",
    "    else:\n",
    "        print(re.sub(r'\\(.*\\)', '', op.text)"
   ]
  },
  {
   "cell_type": "code",
   "execution_count": null,
   "id": "7cd69211",
   "metadata": {},
   "outputs": [],
   "source": [
    "for i in range(1,2): # 要改成range(1,25)\n",
    "    if i == 1:\n",
    "        select.select_by_index(i) #   首頁跟之後select放的地方不同 \n",
    "    else:\n",
    "        select = Select(driver.find_element(\"name\",'CinemaNameTWInfoS')) \n",
    "        select.select_by_index(i)\n",
    "    time.sleep(2) # for delay\n",
    "    content  = BeautifulSoup(driver.page_source,\"html.parser\")\n",
    "    Title = content.select('div #ShowTimeSecondInfo div.col-xs-12 strotng.col-xs-12.LangTW.MovieName')\n",
    "    Time = content.select_one('div #ShowTimeSecondInfo').text.replace(\" \",\"\").replace(\"\\n\\n\",\"\\n\").replace('\\n',\" \").replace(\"  \",\" \").replace(\" \",\"\\n\")\n",
    "    print(Time) "
   ]
  },
  {
   "cell_type": "code",
   "execution_count": 16,
   "id": "3a9d73e4",
   "metadata": {},
   "outputs": [
    {
     "name": "stdout",
     "output_type": "stream",
     "text": [
      "{'台北信義威秀影城': [], 'MUVIE CINEMAS台北松仁威秀': [], 'MUVIE CINEMAS台北松仁威秀 (MUCROWN)': [], '台北京站威秀影城': [], '板橋大遠百威秀影城': [], '中和環球威秀影城': [], '林口MITSUI OUTLET PARK威秀影城': [], '林口MITSUI OUTLET PARK威秀影城 (Mappa)': [], '桃園統領威秀影城': [], '新竹大遠百威秀影城': [], '新竹大遠百威秀影城 (GC)': [], '新竹巨城威秀影城': [], '頭份尚順威秀影城': [], '台中大遠百威秀影城': [], '台中Tiger City威秀影城': [], '台中Tiger City威秀影城 (GC)': [], '台中大魯閣新時代威秀影城': [], '台南大遠百威秀影城': [], '台南FOCUS威秀影城': [], '台南南紡威秀影城': [], '台南南紡威秀影城 (GC)': [], '高雄大遠百威秀影城': [], '高雄大遠百威秀影城 (GC)': [], '花蓮新天堂樂園威秀影城': []}\n"
     ]
    }
   ],
   "source": [
    "print(ShowTime)"
   ]
  },
  {
   "cell_type": "code",
   "execution_count": 21,
   "id": "8c588d0c",
   "metadata": {},
   "outputs": [
    {
     "name": "stdout",
     "output_type": "stream",
     "text": [
      "[<strong class=\"col-xs-12 LangTW MovieName\">\n",
      "            (MUCROWN)黑亞當 (保護級)\n",
      "        </strong>, <strong class=\"col-xs-12 LangTW MovieName\">\n",
      "            (MUCROWN)黑豹2：瓦干達萬歲 (保護級)\n",
      "        </strong>]\n"
     ]
    }
   ],
   "source": [
    "print(Title)"
   ]
  },
  {
   "cell_type": "code",
   "execution_count": 75,
   "id": "a44c0690",
   "metadata": {},
   "outputs": [],
   "source": [
    "reg = 0\n",
    "count = 0\n",
    "Name = []\n",
    "Date = []\n",
    "Show = []\n",
    "Info = []\n",
    "s = \"\"\n",
    "name = \"\"\n",
    "date = \"\"\n",
    "show = \"\"\n",
    "for time in new:\n",
    "    if count == 2:\n",
    "        reg = 1\n",
    "        count = 0\n",
    "        name = \"\"\n",
    "    elif reg == 1 and time != '\\n':\n",
    "        name += time\n",
    "        count = 0\n",
    "    elif time == '\\n':\n",
    "        reg += 1\n",
    "        count += 1\n",
    "        if len(s) == 9:\n",
    "            date = s\n",
    "        elif len(s) == 5:\n",
    "            show = s\n",
    "            info = name[name.find(')')+1:name.rfind('(')] + \" \"+date+\" \"+show\n",
    "            Info.append(info)\n",
    "        s = \"\"\n",
    "    else:\n",
    "        s += time\n",
    "        count = 0"
   ]
  },
  {
   "cell_type": "code",
   "execution_count": 22,
   "id": "6a2559b2",
   "metadata": {},
   "outputs": [
    {
     "name": "stdout",
     "output_type": "stream",
     "text": [
      "\n",
      "(MUCROWN)黑亞當(保護級)\n",
      "(MUCROWN)BLACKADAM(P)\n",
      "11月07日星期一\n",
      "11/07Mon\n",
      "13:00\n",
      "16:00\n",
      "19:00\n",
      "22:00\n",
      "11月08日星期二\n",
      "11/08Tue\n",
      "13:00\n",
      "16:00\n",
      "19:00\n",
      "22:00\n",
      "\n",
      "(MUCROWN)黑豹2：瓦干達萬歲(保護級)\n",
      "(MUCROWN)BLACKPANTHERWAKANDAFOREVER(P)\n",
      "11月09日星期三\n",
      "11/09Wed\n",
      "11:20\n",
      "15:10\n",
      "19:00\n",
      "22:50\n",
      "11月10日星期四\n",
      "11/10Thu\n",
      "11:20\n",
      "15:10\n",
      "19:00\n",
      "22:50\n",
      "11月11日星期五\n",
      "11/11Fri\n",
      "11:20\n",
      "15:10\n",
      "22:50\n",
      "11月12日星期六\n",
      "11/12Sat\n",
      "16:30\n",
      "23:30\n",
      "11月13日星期日\n",
      "11/13Sun\n",
      "16:30\n",
      "20:00\n",
      "23:30\n",
      "11月14日星期一\n",
      "11/14Mon\n",
      "11:20\n",
      "15:10\n",
      "19:00\n",
      "22:50\n",
      "\n"
     ]
    }
   ],
   "source": [
    "print(new)"
   ]
  },
  {
   "cell_type": "code",
   "execution_count": 77,
   "id": "41bcf1bc",
   "metadata": {},
   "outputs": [
    {
     "name": "stdout",
     "output_type": "stream",
     "text": [
      "黑亞當 11月07日星期一 13:00\n",
      "黑亞當 11月07日星期一 16:00\n",
      "黑亞當 11月07日星期一 19:00\n",
      "黑亞當 11月07日星期一 22:00\n",
      "黑亞當 11月08日星期二 13:00\n",
      "黑亞當 11月08日星期二 16:00\n",
      "黑亞當 11月08日星期二 19:00\n",
      "黑亞當 11月08日星期二 22:00\n",
      "黑豹2：瓦干達萬歲 11月09日星期三 11:20\n",
      "黑豹2：瓦干達萬歲 11月09日星期三 15:10\n",
      "黑豹2：瓦干達萬歲 11月09日星期三 19:00\n",
      "黑豹2：瓦干達萬歲 11月09日星期三 22:50\n",
      "黑豹2：瓦干達萬歲 11月10日星期四 11:20\n",
      "黑豹2：瓦干達萬歲 11月10日星期四 15:10\n",
      "黑豹2：瓦干達萬歲 11月10日星期四 19:00\n",
      "黑豹2：瓦干達萬歲 11月10日星期四 22:50\n",
      "黑豹2：瓦干達萬歲 11月11日星期五 11:20\n",
      "黑豹2：瓦干達萬歲 11月11日星期五 15:10\n",
      "黑豹2：瓦干達萬歲 11月11日星期五 22:50\n",
      "黑豹2：瓦干達萬歲 11月12日星期六 16:30\n",
      "黑豹2：瓦干達萬歲 11月12日星期六 23:30\n",
      "黑豹2：瓦干達萬歲 11月13日星期日 16:30\n",
      "黑豹2：瓦干達萬歲 11月13日星期日 20:00\n",
      "黑豹2：瓦干達萬歲 11月13日星期日 23:30\n",
      "黑豹2：瓦干達萬歲 11月14日星期一 11:20\n",
      "黑豹2：瓦干達萬歲 11月14日星期一 15:10\n",
      "黑豹2：瓦干達萬歲 11月14日星期一 19:00\n",
      "黑豹2：瓦干達萬歲 11月14日星期一 22:50\n"
     ]
    }
   ],
   "source": [
    "for i in Info:\n",
    "    print (i)"
   ]
  },
  {
   "cell_type": "code",
   "execution_count": null,
   "id": "314769c4",
   "metadata": {},
   "outputs": [],
   "source": []
  }
 ],
 "metadata": {
  "kernelspec": {
   "display_name": "Python 3 (ipykernel)",
   "language": "python",
   "name": "python3"
  },
  "language_info": {
   "codemirror_mode": {
    "name": "ipython",
    "version": 3
   },
   "file_extension": ".py",
   "mimetype": "text/x-python",
   "name": "python",
   "nbconvert_exporter": "python",
   "pygments_lexer": "ipython3",
   "version": "3.10.7"
  }
 },
 "nbformat": 4,
 "nbformat_minor": 5
}

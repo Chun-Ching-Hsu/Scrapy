{
 "cells": [
  {
   "cell_type": "code",
   "execution_count": 8,
   "id": "40573eec",
   "metadata": {},
   "outputs": [],
   "source": [
    "import os\n",
    "import requests as rq\n",
    "import pandas as pd\n",
    "import numpy as np\n",
    "import time\n",
    "import json\n",
    "import re\n",
    "import winsound\n",
    "from bs4 import BeautifulSoup\n",
    "from selenium import webdriver\n",
    "from selenium.webdriver.support.ui import Select \n",
    "from selenium.webdriver.common.by import By\n",
    "from webdriver_manager.chrome import ChromeDriverManager\n",
    "from tqdm import tqdm,trange\n",
    "from PIL import Image"
   ]
  },
  {
   "cell_type": "code",
   "execution_count": 9,
   "id": "47f055da",
   "metadata": {},
   "outputs": [],
   "source": [
    "Jump = []"
   ]
  },
  {
   "cell_type": "code",
   "execution_count": 10,
   "id": "986a4b3f",
   "metadata": {},
   "outputs": [],
   "source": [
    "root = 'https://www.vscinemas.com.tw/vsweb'  # get img url\n",
    "path = r\"C:\\Users\\User\\Desktop\\Hot_Movie_Img\" # save in local 所以斜線方向不一樣\n",
    "\n",
    "Type = {\n",
    "    'movieTypeId':[1,2,3,4,5,6,7,8,9,10,11,12,13,14,15,16,17,18,19,20],\n",
    "    'movieTypeName':['奇幻','冒險','動作','劇情','犯罪','懸疑',\n",
    "                     '驚悚','歷史','傳記','恐怖','愛情','動畫',\n",
    "                     '推理','溫馨','家庭','喜劇','暴力','勵志',\n",
    "                     '紀錄','音樂']\n",
    "}\n",
    "Type_CSV = pd.DataFrame(Type)\n",
    "Type_CSV.to_csv(\"movieType.csv\",index=False,encoding=\"utf_8_sig\")\n",
    "\n",
    "Grade = {\n",
    "    'gradeId':[1,2,3,4,5],\n",
    "    'gradeName':['general','childview','bigchild','teenager','adult']\n",
    "    # 普0+  護6+  輔12+  輔15+  限18+     \n",
    "}\n",
    "Grade_CSV = pd.DataFrame(Grade)\n",
    "Grade_CSV.to_csv(\"grade.csv\",index=False,encoding=\"utf_8_sig\")\n",
    "\n",
    "Movie_Info = {\n",
    "    'movieId':[], # int 255\n",
    "    'movieName':[], # CH Name string 30\n",
    "    'movieStart':[],# string 11\n",
    "    'gradeId':[], # gradeId eg 分級\n",
    "    'director':[],'actors':[],'movieTypeId':[], # typeId eg 愛情 熱血 動作...\n",
    "    'movieTime':[],# 片長  \n",
    "    'movieImg':[], # url_type\n",
    "    'movieInfo':[],\n",
    "    'moreMovieImg':[],\n",
    "    'moreMovieImgNum':[]\n",
    "}\n",
    "\n",
    "showing = {\n",
    "    'cinemaId':[],\n",
    "    'movieId':[],\n",
    "    'versionId':[],\n",
    "    'showingDate':[],\n",
    "    'startTime':[],\n",
    "    'theaterId':[]\n",
    "}"
   ]
  },
  {
   "cell_type": "code",
   "execution_count": 11,
   "id": "dba5a3c6",
   "metadata": {},
   "outputs": [],
   "source": [
    "cinemaTable = {} \n",
    "with open('cinema.json') as f:               # 引用影城 Id Name\n",
    "    cinema = json.load(f)   \n",
    "for i in range(len(cinema['cinemaId'])):\n",
    "    cinemaTable[cinema['cinemaName'][i]] = cinema['cinemaId'][i]\n",
    "\n",
    "versionTable = {}\n",
    "with open('version.json') as f:               # 引用版本 Id Name\n",
    "    version = json.load(f)\n",
    "for i in range(len(version['versionId'])):\n",
    "    versionTable[version['versionName'][i]]= version['versionId'][i]"
   ]
  },
  {
   "cell_type": "code",
   "execution_count": 12,
   "id": "5d950f47",
   "metadata": {},
   "outputs": [],
   "source": [
    "def Movie(content,i):\n",
    "    global Movie_Info,Type,Grade,Jump\n",
    "    try:\n",
    "        ## movieTime  這个先判斷，如果為空，代表已下架\n",
    "        Times = content.select('div.movieTime article div.movieDay h4')  # 去對應tag找內容 有另一種寫法是像下面醬\n",
    "        MoviePlayTime = set()                                            # Times = content.find_all(div,{\"class\":movieTime})\n",
    "        for t in Times:\n",
    "            MoviePlayTime.add(t.text)\n",
    "        if not MoviePlayTime: # 表示近期沒有撥放 以下架\n",
    "            Jump.append(i)\n",
    "            return False\n",
    "        movieName = content.select_one('div.titleArea h1').text # 電影名稱 中文\n",
    "        movieName = re.sub(r'[ ．–·，〜!‧:：　-]|『.*',\"\",movieName) # 正則表達 去掉全部特殊符\n",
    "        movieName = movieName.upper()\n",
    "        # 全形轉半形\n",
    "        tmpName = movieName\n",
    "        movieName=\"\"\n",
    "        for s in tmpName:\n",
    "            ch_num = ord(s)\n",
    "            if(ch_num>=65281 and ch_num<=65347):\n",
    "                ch_num -=65248\n",
    "            movieName += chr(ch_num)\n",
    "        movieName = movieName.replace('\"',\"\")\n",
    "        #EN_Name = content.select_one('div.titleArea h2').text\n",
    "        movieStart = content.select_one('div.titleArea time').text.replace(\"上映日期：\",\"\") # 上映日期\n",
    "\n",
    "        ## markArea Level\n",
    "        grade = content.select('div.markArea span')[0].get('class') # eg 保護級 是 list\n",
    "        if grade != \"\":\n",
    "            gradeId = Grade['gradeId'][Grade['gradeName'].index(f'{grade[0]}')]\n",
    "        else:\n",
    "            gradeId = 0\n",
    "        #Mark2 = content.select('div.markArea span')[1].get('class') # eg 熱售\n",
    "\n",
    "        ## infoArea Director, Actor, Type, L_of_File\n",
    "        inforArea =content.select_one('div.infoArea table')\n",
    "        if inforArea != None:  # 直播類型沒有下面這些\n",
    "            director = content.select_one('div.infoArea table tr td p').text # 導演\n",
    "            actors = content.select('div.infoArea table tr')[1].select_one('td p').text   # 主演\n",
    "            movieTime = content.select('div.infoArea table tr')[3].select('td')[1].text # 片長\n",
    "            typeform = content.select('div.infoArea table tr')[2].select('td')[1].text[0:2] # 我只有選一個 也可以都拿~~\n",
    "            if typeform != \"\": # 有的電影沒有類型\n",
    "                movieTypeId = Type['movieTypeId'][Type['movieTypeName'].index(f'{typeform}')]\n",
    "            else:\n",
    "                movieTypeId = 0\n",
    "        else:\n",
    "            director = \"\"\n",
    "            actors = \"\"\n",
    "            movieTime = \"\"\n",
    "            typeform = \"\"\n",
    "            movieTypeId = 0\n",
    "        ## Version\n",
    "    #         VersionList = content.select('div.movieVersion ul li a.versionFirst')\n",
    "    #         Version = []\n",
    "    #         for v in VersionList:\n",
    "    #             Version.append(v.text)   \n",
    "        ## IMG\n",
    "        Img = content.select_one('div.movieMain figure img').get('src').replace('..',root)\n",
    "        Img = rq.get(Img)  # 拿到Img\n",
    "        if not os.path.exists(path):\n",
    "            os.mkdir(path)\n",
    "        with open(f\"{path}\\_{movieName}_{i}.jpg\",\"wb\") as file:\n",
    "            file.write(Img.content)\n",
    "            Img = Image.open(f\"{path}\\_{movieName}_{i}.jpg\")\n",
    "            ReImg = Img.resize((500,740))  # 修正大小\n",
    "            ReImg.save(f\"{path}\\_{movieName}_{i}.jpg\")\n",
    "            Img_URL = f\"{path}\\_{movieName}_{i}.jpg\"\n",
    "        ## movieStory\n",
    "        movieInfo = content.select_one('div.movieStory p').text\n",
    "\n",
    "        ## morePicture\n",
    "        More_Picture = content.select('div.moviePicture a')\n",
    "        moreImg = \"\"\n",
    "        moreImgNum = 0\n",
    "        if More_Picture:\n",
    "            for img in More_Picture:\n",
    "                moreImgNum += 1\n",
    "                img_url = img.get('href').replace(\"..\",root)\n",
    "                img = rq.get(img_url)\n",
    "                if not os.path.exists(path+f'\\more_{movieName}_{i}'):  # 建立dir\n",
    "                    os.mkdir(path+f'\\more_{movieName}_{i}')\n",
    "                with open(f\"{path}\\more_{movieName}_{i}\\_{moreImgNum}.jpg\",\"wb\") as file:\n",
    "                    file.write(img.content)\n",
    "                    Img = Image.open(f\"{path}\\more_{movieName}_{i}\\_{moreImgNum}.jpg\")\n",
    "                    ReImg = Img.resize((800,300))\n",
    "                    ReImg.save(f\"{path}\\more_{movieName}_{i}\\_{moreImgNum}.jpg\")\n",
    "                    #moreImg.append(f\"{path}\\more_{movieName}_{i}\\_{moreImgNum}.jpg\")\n",
    "            moreImg = path+f'\\more_{movieName}_{i}'\n",
    "        ########### save into dict \n",
    "    #         for ver in Version:\n",
    "        Movie_Info['movieId'].append(i)\n",
    "        Movie_Info['movieName'].append(movieName)\n",
    "        #Movie_Info['EN_Name'].append(EN_Name)\n",
    "        Movie_Info['movieStart'].append(movieStart)\n",
    "        Movie_Info['gradeId'].append(gradeId)\n",
    "        #Movie_Info['Mark2'].append(Mark2)\n",
    "        Movie_Info['director'].append(director)\n",
    "        Movie_Info['actors'].append(actors)\n",
    "        Movie_Info['movieTypeId'].append(movieTypeId)\n",
    "        Movie_Info['movieTime'].append(movieTime)\n",
    "        #Movie_Info['Version'].append(ver)\n",
    "        Movie_Info['movieImg'].append(Img_URL)\n",
    "        Movie_Info['movieInfo'].append(movieInfo)\n",
    "        Movie_Info['moreMovieImg'].append(moreImg)\n",
    "        Movie_Info['moreMovieImgNum'].append(moreImgNum)\n",
    "        return True\n",
    "    except:\n",
    "        print(\"Error ID:\",i)\n",
    "        return False"
   ]
  },
  {
   "cell_type": "code",
   "execution_count": 13,
   "id": "92308b68",
   "metadata": {},
   "outputs": [
    {
     "name": "stderr",
     "output_type": "stream",
     "text": [
      "C:\\Users\\User\\AppData\\Local\\Temp\\ipykernel_5060\\2824417042.py:6: DeprecationWarning: executable_path has been deprecated, please pass in a Service object\n",
      "  driver = webdriver.Chrome(ChromeDriverManager().install()) # install driver\n",
      "  1%|▋                                                                               | 3/363 [00:23<1:02:57, 10.49s/it]"
     ]
    },
    {
     "name": "stdout",
     "output_type": "stream",
     "text": [
      "Jump \n"
     ]
    },
    {
     "name": "stderr",
     "output_type": "stream",
     "text": [
      " 33%|██████████████████████████▏                                                     | 119/363 [21:57<04:05,  1.01s/it]"
     ]
    },
    {
     "name": "stdout",
     "output_type": "stream",
     "text": [
      "Jump \n"
     ]
    },
    {
     "name": "stderr",
     "output_type": "stream",
     "text": [
      " 56%|████████████████████████████████████████████                                  | 205/363 [1:11:42<11:32,  4.38s/it]"
     ]
    },
    {
     "name": "stdout",
     "output_type": "stream",
     "text": [
      "Jump \n"
     ]
    },
    {
     "name": "stderr",
     "output_type": "stream",
     "text": [
      " 60%|██████████████████████████████████████████████▊                               | 218/363 [1:21:33<17:47,  7.36s/it]"
     ]
    },
    {
     "name": "stdout",
     "output_type": "stream",
     "text": [
      "Jump \n"
     ]
    },
    {
     "name": "stderr",
     "output_type": "stream",
     "text": [
      " 63%|████████████████████████████████████████████████▊                             | 227/363 [1:38:23<48:37, 21.45s/it]"
     ]
    },
    {
     "name": "stdout",
     "output_type": "stream",
     "text": [
      "Jump \n"
     ]
    },
    {
     "name": "stderr",
     "output_type": "stream",
     "text": [
      " 64%|████████████████████████████████████████████████▎                           | 231/363 [1:42:11<1:04:17, 29.22s/it]"
     ]
    },
    {
     "name": "stdout",
     "output_type": "stream",
     "text": [
      "Jump \n",
      "Jump 台北松仁威秀\n",
      "Jump \n"
     ]
    },
    {
     "name": "stderr",
     "output_type": "stream",
     "text": [
      " 71%|███████████████████████████████████████████████████████▍                      | 258/363 [3:12:44<04:54,  2.81s/it]"
     ]
    },
    {
     "name": "stdout",
     "output_type": "stream",
     "text": [
      "Jump \n"
     ]
    },
    {
     "name": "stderr",
     "output_type": "stream",
     "text": [
      " 72%|████████████████████████████████████████████████████████                      | 261/363 [3:14:40<31:07, 18.31s/it]"
     ]
    },
    {
     "name": "stdout",
     "output_type": "stream",
     "text": [
      "Jump \n"
     ]
    },
    {
     "name": "stderr",
     "output_type": "stream",
     "text": [
      " 74%|████████████████████████████████████████████████████████▎                   | 269/363 [3:38:31<1:01:36, 39.33s/it]"
     ]
    },
    {
     "name": "stdout",
     "output_type": "stream",
     "text": [
      "Jump \n"
     ]
    },
    {
     "name": "stderr",
     "output_type": "stream",
     "text": [
      " 76%|███████████████████████████████████████████████████████████▌                  | 277/363 [3:54:33<40:48, 28.48s/it]"
     ]
    },
    {
     "name": "stdout",
     "output_type": "stream",
     "text": [
      "Jump \n",
      "Jump \n"
     ]
    },
    {
     "name": "stderr",
     "output_type": "stream",
     "text": [
      "\r",
      " 77%|█████████████████████████████████████████████████████████▍                 | 278/363 [4:03:49<4:24:35, 186.77s/it]"
     ]
    },
    {
     "name": "stdout",
     "output_type": "stream",
     "text": [
      "Jump \n"
     ]
    },
    {
     "name": "stderr",
     "output_type": "stream",
     "text": [
      " 79%|████████████████████████████████████████████████████████████                | 287/363 [4:31:27<1:57:21, 92.65s/it]"
     ]
    },
    {
     "name": "stdout",
     "output_type": "stream",
     "text": [
      "Jump \n"
     ]
    },
    {
     "name": "stderr",
     "output_type": "stream",
     "text": [
      "\r",
      " 79%|████████████████████████████████████████████████████████████▎               | 288/363 [4:31:33<1:23:33, 66.84s/it]"
     ]
    },
    {
     "name": "stdout",
     "output_type": "stream",
     "text": [
      "Jump 台北松仁威秀\n"
     ]
    },
    {
     "name": "stderr",
     "output_type": "stream",
     "text": [
      " 80%|███████████████████████████████████████████████████████████▉               | 290/363 [4:47:59<6:31:03, 321.42s/it]"
     ]
    },
    {
     "name": "stdout",
     "output_type": "stream",
     "text": [
      "Jump \n"
     ]
    },
    {
     "name": "stderr",
     "output_type": "stream",
     "text": [
      " 84%|█████████████████████████████████████████████████████████████████▌            | 305/363 [5:00:27<14:30, 15.01s/it]"
     ]
    },
    {
     "name": "stdout",
     "output_type": "stream",
     "text": [
      "Jump \n"
     ]
    },
    {
     "name": "stderr",
     "output_type": "stream",
     "text": [
      "100%|██████████████████████████████████████████████████████████████████████████████| 363/363 [5:07:45<00:00, 50.87s/it]\n"
     ]
    }
   ],
   "source": [
    "# 上面一層 是電影ID\n",
    "# get each movie in every cinema showing\n",
    "_waitTime = 0.5\n",
    "_start = 5937\n",
    "_end = 6300\n",
    "driver = webdriver.Chrome(ChromeDriverManager().install()) # install driver\n",
    "for i in tqdm(range(_start,_end)):\n",
    "    global Movie_Info,Type,Grade,Jump\n",
    "    driver.get(f\"https://www.vscinemas.com.tw/vsweb/film/detail.aspx?id={i}\")\n",
    "    content = BeautifulSoup(driver.page_source, \"html.parser\")\n",
    "    existMovie = Movie(content,i)\n",
    "    if existMovie:\n",
    "        time.sleep(_waitTime) # wait \n",
    "        listVersion = driver.find_elements(By.CSS_SELECTOR,\"section.movieDetail div.movieVersion ul.versionList li a[href='#']\")\n",
    "        #time.sleep(_waitTime) # wait \n",
    "        for versionClick in listVersion:\n",
    "            #time.sleep(_waitTime)\n",
    "            try:\n",
    "                versionClick.click()\n",
    "                time.sleep(_waitTime)\n",
    "                listCinema = driver.find_elements(By.CSS_SELECTOR,\"section.movieDetail div.movieVersion ul.versionList li.show ul li a\")\n",
    "                #time.sleep(_waitTime) # wait \n",
    "                for cinemaClick in listCinema:\n",
    "                    #time.sleep(_waitTime)\n",
    "                    try:\n",
    "                        cinemaClick.click()\n",
    "                        time.sleep(_waitTime)  # wait\n",
    "                        content = BeautifulSoup(driver.page_source,\"html.parser\")\n",
    "\n",
    "                        cinema = content.select_one('div.theaterSelect h1 span').text\n",
    "                        originalCinema = cinema\n",
    "                        cinema = re.sub(r'\\(.*\\)', '', cinema).replace(\" \",\"\")\n",
    "                        cinema = re.sub('[a-zA-Z]','',cinema) # 統一名稱\n",
    "                        if cinema in cinemaTable.keys():          # 跳過台北松仁\n",
    "                            cinemaId = cinemaTable[cinema]\n",
    "                        else:\n",
    "                            print(\"Jump\",cinema)\n",
    "                            continue\n",
    "                        version = content.select_one('div.theaterSelect h1').text.replace(f\"{originalCinema}\",\"\").replace(\"/\",\"\").replace(\" \",\"\")\n",
    "                        if version in versionTable.keys():\n",
    "                            versionId = versionTable[version]\n",
    "                        else:\n",
    "                            versionId = \"\"\n",
    "                        time.sleep(_waitTime)\n",
    "                        seat = driver.find_elements(By.CSS_SELECTOR,\"div.movieTime article.hidden.article.slide div.movieDay ul.bookList a[target='_blank']\")\n",
    "                        #time.sleep(_waitTime) # wait \n",
    "                        for seatClick in seat:\n",
    "                            #time.sleep(_waitTime)\n",
    "                            try:\n",
    "                                seatClick.click()\n",
    "                                time.sleep(_waitTime) # wait\n",
    "                                driver.switch_to.window(driver.window_handles[-1]) # switch driver to new \n",
    "                                time.sleep(_waitTime) # wait\n",
    "                                content = BeautifulSoup(driver.page_source,\"html.parser\")\n",
    "                                DateTime = content.select_one('div.container table tbody tr td div.DivDetail span#LabelSession_dtmDateTime').text[1:]\n",
    "                                showingDate = DateTime[ :DateTime.find(\" \")]\n",
    "                                startTime = DateTime[DateTime.find(\" \")+1:]\n",
    "                                theaterName = content.select_one('div.container table tbody tr td div.DivDetail span#LabelScreen_strName').text\n",
    "                                theaterId = re.sub(\"[第廳館樓]\",\"\",theaterName)\n",
    "                                theaterId = theaterId[theaterId.find(\" \")+1:]\n",
    "\n",
    "                                showing['cinemaId'].append(cinemaId)\n",
    "                                showing['movieId'].append(i)\n",
    "                                showing['showingDate'].append(showingDate)\n",
    "                                showing['startTime'].append(startTime)\n",
    "                                showing['theaterId'].append(theaterId)\n",
    "                                showing['versionId'].append(versionId)\n",
    "\n",
    "                                #print(i,versionId,cinema,version,showingDate,startTime,theaterId)\n",
    "                                time.sleep(_waitTime)\n",
    "                                driver.close()\n",
    "                                time.sleep(_waitTime)\n",
    "                                driver.switch_to.window(driver.window_handles[-1]) # return driver\n",
    "                                time.sleep(_waitTime)\n",
    "                            except:\n",
    "                                continue\n",
    "                    except:\n",
    "                        continue\n",
    "            except:\n",
    "                continue\n",
    "    else:\n",
    "        continue"
   ]
  },
  {
   "cell_type": "code",
   "execution_count": null,
   "id": "a7bb7d28",
   "metadata": {},
   "outputs": [],
   "source": [
    "frequency = 2000\n",
    "duration = 5000\n",
    "winsound.Beep(frequency, duration)"
   ]
  },
  {
   "cell_type": "code",
   "execution_count": 14,
   "id": "db6af9b9",
   "metadata": {},
   "outputs": [
    {
     "data": {
      "text/plain": [
       "6462"
      ]
     },
     "execution_count": 14,
     "metadata": {},
     "output_type": "execute_result"
    }
   ],
   "source": [
    "len(showing['cinemaId'])"
   ]
  },
  {
   "cell_type": "code",
   "execution_count": 15,
   "id": "907387d4",
   "metadata": {},
   "outputs": [],
   "source": [
    "showing_CSV = pd.DataFrame(showing)\n",
    "showing_CSV.to_csv(\"new_showing.csv\",index=False,encoding=\"utf_8_sig\")"
   ]
  },
  {
   "cell_type": "code",
   "execution_count": 36,
   "id": "a0011940",
   "metadata": {},
   "outputs": [
    {
     "data": {
      "text/plain": [
       "{'台北信義威秀影城': 1,\n",
       " '台北京站威秀影城': 2,\n",
       " '板橋大遠百威秀影城': 4,\n",
       " '林口威秀影城': 5,\n",
       " '新竹大遠百威秀影城': 7,\n",
       " '新竹巨城威秀影城': 9,\n",
       " '頭份尚順威秀影城': 10,\n",
       " '台中大遠百威秀影城': 11,\n",
       " '台中威秀影城': 12,\n",
       " '台南大遠百威秀影城': 15,\n",
       " '台南南紡威秀影城': 16,\n",
       " '高雄大遠百威秀影城': 18,\n",
       " '桃園統領威秀影城': 20,\n",
       " '花蓮新天堂樂園威秀影城': 21,\n",
       " '台南威秀影城': 22,\n",
       " '中和環球威秀影城': 25,\n",
       " '台中大魯閣新時代威秀影城': 26}"
      ]
     },
     "execution_count": 36,
     "metadata": {},
     "output_type": "execute_result"
    }
   ],
   "source": [
    "cinemaTable"
   ]
  },
  {
   "cell_type": "code",
   "execution_count": 41,
   "id": "91b3414e",
   "metadata": {},
   "outputs": [
    {
     "data": {
      "text/plain": [
       "{'數位': 1,\n",
       " '學優場國': 2,\n",
       " 'ATMOS': 3,\n",
       " 'IMAX': 4,\n",
       " 'MAPPA': 5,\n",
       " 'IMAX3D': 6,\n",
       " 'LIVE': 7,\n",
       " '學優場': 8,\n",
       " 'PRE': 9,\n",
       " '口述影像': 10,\n",
       " 'GC數位': 11,\n",
       " '4DX3D': 12,\n",
       " '4DX': 13,\n",
       " '數位國': 14,\n",
       " '3D數位': 15,\n",
       " 'A+': 16}"
      ]
     },
     "execution_count": 41,
     "metadata": {},
     "output_type": "execute_result"
    }
   ],
   "source": [
    "versionTable"
   ]
  },
  {
   "cell_type": "code",
   "execution_count": 51,
   "id": "2a9047e3",
   "metadata": {},
   "outputs": [],
   "source": [
    "version = {'數位': 1,\n",
    " '學優場國': 2,\n",
    " 'ATMOS': 3,\n",
    " 'IMAX': 4,\n",
    " 'MAPPA': 5,\n",
    " 'IMAX3D': 6,\n",
    " 'LIVE': 7,\n",
    " '學優場': 8,\n",
    " 'PRE': 9,\n",
    " '口述影像': 10,\n",
    " 'GC數位': 11,\n",
    " '4DX3D': 12,\n",
    " '4DX': 13,\n",
    " '數位國': 14,\n",
    " '3D數位': 15,\n",
    " 'A+': 16,\n",
    "'應援場':17        }"
   ]
  },
  {
   "cell_type": "code",
   "execution_count": 66,
   "id": "b0125515",
   "metadata": {},
   "outputs": [],
   "source": [
    "version_json = {'versionId':Id,'versionName':Valuse} # for other jupyter load\n",
    "with open(\"version.json\",\"wt\") as f:\n",
    "    json.dump(version_json,f)  "
   ]
  },
  {
   "cell_type": "code",
   "execution_count": null,
   "id": "acf8d031",
   "metadata": {},
   "outputs": [],
   "source": []
  }
 ],
 "metadata": {
  "kernelspec": {
   "display_name": "Python 3 (ipykernel)",
   "language": "python",
   "name": "python3"
  },
  "language_info": {
   "codemirror_mode": {
    "name": "ipython",
    "version": 3
   },
   "file_extension": ".py",
   "mimetype": "text/x-python",
   "name": "python",
   "nbconvert_exporter": "python",
   "pygments_lexer": "ipython3",
   "version": "3.10.7"
  }
 },
 "nbformat": 4,
 "nbformat_minor": 5
}

{
 "cells": [
  {
   "cell_type": "code",
   "execution_count": 144,
   "id": "40573eec",
   "metadata": {},
   "outputs": [],
   "source": [
    "import os\n",
    "import requests as rq\n",
    "import pandas as pd\n",
    "import numpy as np\n",
    "import time\n",
    "import json\n",
    "import re\n",
    "from bs4 import BeautifulSoup\n",
    "from selenium import webdriver\n",
    "from selenium.webdriver.support.ui import Select \n",
    "from selenium.webdriver.common.by import By\n",
    "from webdriver_manager.chrome import ChromeDriverManager\n",
    "from tqdm import tqdm,trange\n",
    "from PIL import Image"
   ]
  },
  {
   "cell_type": "code",
   "execution_count": 165,
   "id": "05a984fa",
   "metadata": {},
   "outputs": [
    {
     "name": "stderr",
     "output_type": "stream",
     "text": [
      "C:\\Users\\User\\AppData\\Local\\Temp\\ipykernel_18052\\255776483.py:1: DeprecationWarning: executable_path has been deprecated, please pass in a Service object\n",
      "  driver = webdriver.Chrome(ChromeDriverManager().install()) # install driver\n"
     ]
    }
   ],
   "source": [
    "driver = webdriver.Chrome(ChromeDriverManager().install()) # install driver\n",
    "driver.get(\"https://www.vscinemas.com.tw/vsweb/film/detail.aspx?id=6168\")"
   ]
  },
  {
   "cell_type": "code",
   "execution_count": 166,
   "id": "86bdc9ee",
   "metadata": {},
   "outputs": [],
   "source": [
    "listmovie = driver.find_element(By.CLASS_NAME,\"versionFirst\")"
   ]
  },
  {
   "cell_type": "code",
   "execution_count": 167,
   "id": "92308b68",
   "metadata": {},
   "outputs": [],
   "source": [
    "listmovie.click()\n",
    "\n",
    "# listmovie = driver.find_elements(By.CLASS_NAME,\"versionFirst\") # 版本清單\n",
    "# for i in listmovie:  \n",
    "#     i.click()\n",
    "#     time.sleep(0.2)"
   ]
  },
  {
   "cell_type": "code",
   "execution_count": 172,
   "id": "523794c9",
   "metadata": {},
   "outputs": [],
   "source": [
    "cinema = driver.find_elements(By.PARTIAL_LINK_TEXT,\"威秀影城\") "
   ]
  },
  {
   "cell_type": "code",
   "execution_count": 173,
   "id": "ea75f2ae",
   "metadata": {},
   "outputs": [],
   "source": [
    "for i in cinema:\n",
    "    i.click()\n",
    "    time.sleep(0.1)"
   ]
  },
  {
   "cell_type": "code",
   "execution_count": null,
   "id": "be7abe12",
   "metadata": {},
   "outputs": [],
   "source": [
    "content = BeautifulSoup(driver.page_source,\"html.parser\")"
   ]
  },
  {
   "cell_type": "code",
   "execution_count": 92,
   "id": "685eb665",
   "metadata": {},
   "outputs": [],
   "source": [
    "cinema = content.select_one('div.theaterSelect')\n",
    "Time = content.select('div.movieDay article.hidden.article.slide')"
   ]
  },
  {
   "cell_type": "code",
   "execution_count": 93,
   "id": "83656dc2",
   "metadata": {},
   "outputs": [],
   "source": [
    "for i in Time:\n",
    "    print(i.text)"
   ]
  },
  {
   "cell_type": "code",
   "execution_count": 94,
   "id": "de058e48",
   "metadata": {},
   "outputs": [],
   "source": [
    "Href = content.select('div.movieTime article.hidden.article.slide')"
   ]
  },
  {
   "cell_type": "code",
   "execution_count": 174,
   "id": "bf72ce6e",
   "metadata": {
    "scrolled": true
   },
   "outputs": [],
   "source": [
    "showing = driver.find_elements(By.CSS_SELECTOR ,\"div.movieTime article.hidden.article.slide div.movieDay ul.bookList a[target='_blank']\")"
   ]
  },
  {
   "cell_type": "code",
   "execution_count": 175,
   "id": "0048eb57",
   "metadata": {},
   "outputs": [],
   "source": [
    "i = 0\n",
    "for s in showing:\n",
    "    i+=1\n",
    "    s.click()"
   ]
  },
  {
   "cell_type": "code",
   "execution_count": 176,
   "id": "e4812bd4",
   "metadata": {},
   "outputs": [
    {
     "data": {
      "text/plain": [
       "6"
      ]
     },
     "execution_count": 176,
     "metadata": {},
     "output_type": "execute_result"
    }
   ],
   "source": [
    "len(showing)"
   ]
  },
  {
   "cell_type": "code",
   "execution_count": 184,
   "id": "b95ad43f",
   "metadata": {},
   "outputs": [],
   "source": [
    "driver.switch_to.window(driver.window_handles[4]) # 換視窗"
   ]
  },
  {
   "cell_type": "code",
   "execution_count": 185,
   "id": "0e437a7f",
   "metadata": {},
   "outputs": [],
   "source": [
    "content = BeautifulSoup(driver.page_source,\"html.parser\")"
   ]
  },
  {
   "cell_type": "code",
   "execution_count": 187,
   "id": "40d3b846",
   "metadata": {},
   "outputs": [
    {
     "data": {
      "text/plain": [
       "'\\n\\n\\n\\n\\n\\t威秀影城 - 場次座位預覽\\n\\n\\n\\n\\n\\n\\n\\n\\n\\n\\n\\n\\n\\n\\n關閉視窗\\n                        \\xa0\\n                    \\n\\n\\n\\n\\n(3D 數位)黑豹2：瓦干達萬歲\\n\\n\\nBLACK PANTHER WAKANDA FOREVER\\n\\n\\n 2022-11-16 20:10\\n 台南FOCUS威秀影城\\n 第6廳\\n\\n\\n\\n\\n\\n\\n\\n\\n銀幕位置\\n\\n\\n\\n\\n\\n\\n\\nAAAAAAA\\n\\nBBBBBBBBBBB\\n\\nCCCCCCCCCCC\\n\\nDDDDDDDDDDD\\n\\nEEEEEEEEEEE\\n\\nFFFFFFFFFFF\\n\\nGGGGGGGGGGG\\n\\n\\n\\n\\n\\n\\n\\n已售出\\n\\n輪椅位(需至影城購買)\\n\\n\\n\\n\\n\\n\\n\\n\\n\\n-系統時間 2022-11-15 01:34:20-\\n\\n\\n\\n\\n\\n\\n\\n\\n'"
      ]
     },
     "execution_count": 187,
     "metadata": {},
     "output_type": "execute_result"
    }
   ],
   "source": [
    "content.text"
   ]
  },
  {
   "cell_type": "code",
   "execution_count": null,
   "id": "8d96fa92",
   "metadata": {},
   "outputs": [],
   "source": []
  }
 ],
 "metadata": {
  "kernelspec": {
   "display_name": "Python 3 (ipykernel)",
   "language": "python",
   "name": "python3"
  },
  "language_info": {
   "codemirror_mode": {
    "name": "ipython",
    "version": 3
   },
   "file_extension": ".py",
   "mimetype": "text/x-python",
   "name": "python",
   "nbconvert_exporter": "python",
   "pygments_lexer": "ipython3",
   "version": "3.10.7"
  }
 },
 "nbformat": 4,
 "nbformat_minor": 5
}

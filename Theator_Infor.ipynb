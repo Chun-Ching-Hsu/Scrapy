{
 "cells": [
  {
   "cell_type": "code",
   "execution_count": 13,
   "id": "e31d5893",
   "metadata": {},
   "outputs": [],
   "source": [
    "import os\n",
    "import requests as rq\n",
    "import pandas as pd\n",
    "import numpy as np\n",
    "import json\n",
    "from bs4 import BeautifulSoup\n",
    "from tqdm import tqdm,trange\n",
    "from PIL import Image"
   ]
  },
  {
   "cell_type": "code",
   "execution_count": 3,
   "id": "745be152",
   "metadata": {},
   "outputs": [],
   "source": [
    "Jump = [] # 只有第一次要跑"
   ]
  },
  {
   "cell_type": "code",
   "execution_count": 4,
   "id": "7e9d0707",
   "metadata": {},
   "outputs": [],
   "source": [
    "cinema = {\n",
    "    \"cinemaId\":[],\n",
    "    \"cinemaAddress\":[], \n",
    "    \"cinemaName\":[], \n",
    "    \"cinemaTele\":[],\n",
    "    \"cinemaImg\":[],\n",
    "    \"cinemaBusTwo\":[],\n",
    "    \"cinemaInfo\":[],\n",
    "    \"cinemaGoogle\":[]  # iframe\n",
    "}\n",
    "root = 'https://www.vscinemas.com.tw/vsweb'  # get img url\n",
    "path = r\"C:\\Users\\User\\Desktop\\Cinema_Img\"\n",
    "num = 0\n",
    "\n",
    "# 要新增更多Img部分"
   ]
  },
  {
   "cell_type": "code",
   "execution_count": 5,
   "id": "ba6dc129",
   "metadata": {
    "scrolled": true
   },
   "outputs": [
    {
     "name": "stderr",
     "output_type": "stream",
     "text": [
      "  1%|▊                                                                                 | 1/100 [00:00<00:42,  2.33it/s]"
     ]
    },
    {
     "name": "stdout",
     "output_type": "stream",
     "text": [
      "Not found： 0\n"
     ]
    },
    {
     "name": "stderr",
     "output_type": "stream",
     "text": [
      "  4%|███▎                                                                              | 4/100 [00:07<02:43,  1.71s/it]"
     ]
    },
    {
     "name": "stdout",
     "output_type": "stream",
     "text": [
      "Not found： 3\n"
     ]
    },
    {
     "name": "stderr",
     "output_type": "stream",
     "text": [
      "  7%|█████▋                                                                            | 7/100 [00:12<02:23,  1.54s/it]"
     ]
    },
    {
     "name": "stdout",
     "output_type": "stream",
     "text": [
      "Not found： 6\n"
     ]
    },
    {
     "name": "stderr",
     "output_type": "stream",
     "text": [
      "  9%|███████▍                                                                          | 9/100 [00:15<02:11,  1.44s/it]"
     ]
    },
    {
     "name": "stdout",
     "output_type": "stream",
     "text": [
      "Not found： 8\n"
     ]
    },
    {
     "name": "stderr",
     "output_type": "stream",
     "text": [
      " 14%|███████████▎                                                                     | 14/100 [00:25<02:19,  1.63s/it]"
     ]
    },
    {
     "name": "stdout",
     "output_type": "stream",
     "text": [
      "Not found： 13\n"
     ]
    },
    {
     "name": "stderr",
     "output_type": "stream",
     "text": [
      "\r",
      " 15%|████████████▏                                                                    | 15/100 [00:25<01:47,  1.26s/it]"
     ]
    },
    {
     "name": "stdout",
     "output_type": "stream",
     "text": [
      "Not found： 14\n"
     ]
    },
    {
     "name": "stderr",
     "output_type": "stream",
     "text": [
      " 18%|██████████████▌                                                                  | 18/100 [00:32<02:12,  1.62s/it]"
     ]
    },
    {
     "name": "stdout",
     "output_type": "stream",
     "text": [
      "Not found： 17\n"
     ]
    },
    {
     "name": "stderr",
     "output_type": "stream",
     "text": [
      " 20%|████████████████▏                                                                | 20/100 [00:36<02:24,  1.80s/it]"
     ]
    },
    {
     "name": "stdout",
     "output_type": "stream",
     "text": [
      "Not found： 19\n"
     ]
    },
    {
     "name": "stderr",
     "output_type": "stream",
     "text": [
      " 24%|███████████████████▍                                                             | 24/100 [00:45<02:05,  1.65s/it]"
     ]
    },
    {
     "name": "stdout",
     "output_type": "stream",
     "text": [
      "Not found： 23\n"
     ]
    },
    {
     "name": "stderr",
     "output_type": "stream",
     "text": [
      "\r",
      " 25%|████████████████████▎                                                            | 25/100 [00:45<01:35,  1.27s/it]"
     ]
    },
    {
     "name": "stdout",
     "output_type": "stream",
     "text": [
      "Not found： 24\n"
     ]
    },
    {
     "name": "stderr",
     "output_type": "stream",
     "text": [
      " 26%|█████████████████████                                                            | 26/100 [00:48<02:17,  1.86s/it]"
     ]
    },
    {
     "name": "stdout",
     "output_type": "stream",
     "text": [
      "Ending\n"
     ]
    },
    {
     "name": "stderr",
     "output_type": "stream",
     "text": [
      "\n"
     ]
    }
   ],
   "source": [
    "for i in tqdm(range (0,100)):\n",
    "    if i in Jump:\n",
    "        continue\n",
    "    resp = rq.get(\n",
    "        f\"https://www.vscinemas.com.tw/vsweb/theater/detail.aspx?id={i}\"\n",
    "    )\n",
    "    content = BeautifulSoup(resp.text, \"html.parser\")\n",
    "    try:\n",
    "        cinemaTele = content.select_one('div.theaterPosition article.article div.leftBox ul li.icon-phone p').text\n",
    "        cinemaAddress = content.select_one('div.theaterPosition article.article div.leftBox ul li.icon-marker p').text\n",
    "        # 交通資訊大家格式都不太一樣，有的有全形的-，有的不是 所以換兩次\n",
    "        cinemaBusTwo = content.select_one('div.theaterPosition article.article div.leftBox ul li.icon-bus-two p').text.replace(\" －\",'\\n').replace('－',\"\").replace(\"-\",\"\")\n",
    "        cinemaGoogle = content.select_one('div.theaterPosition article.article section.rightMap iframe').get('src')\n",
    "        # 相關資訊也是，每座的影廳都有放不同位置\n",
    "        cinemaInfo = content.select('div.theaterStory article.article div.bbsArticle p')[0].text\n",
    "        if cinemaInfo =='\\n'or cinemaInfo =='\\xa0' or cinemaInfo =='':\n",
    "            cinemaInfo = content.select('div.theaterStory article.article div.bbsArticle p')[1].text\n",
    "            \n",
    "        cinemaName = content.select('section.crumbArea div.crumb span')[2].text\n",
    "        Img = content.select_one('section.theaterBanner img').get('src').replace(\"..\",root)\n",
    "        Img = rq.get(Img)\n",
    "        if not os.path.exists(path):\n",
    "            os.mkdir(path)\n",
    "        with open(f\"{path}\\_{cinemaName}.jpg\",\"wb\") as file:\n",
    "            file.write(Img.content)\n",
    "            Img = Image.open(f\"{path}\\_{cinemaName}.jpg\")\n",
    "            cinemaImg = f\"{path}\\_{cinemaName}.jpg\"\n",
    "        cinema['cinemaAddress'].append(cinemaAddress)\n",
    "        cinema['cinemaBusTwo'].append(cinemaBusTwo)\n",
    "        cinema['cinemaGoogle'].append(cinemaGoogle)\n",
    "        cinema['cinemaId'].append(i)\n",
    "        cinema['cinemaImg'].append(cinemaImg)\n",
    "        cinema['cinemaInfo'].append(cinemaInfo)\n",
    "        cinema['cinemaName'].append(cinemaName)\n",
    "        cinema['cinemaTele'].append(cinemaTele)\n",
    "        num += 1\n",
    "        if num == 17:\n",
    "            break\n",
    "    except:\n",
    "        Jump.append(i)\n",
    "        print(\"Not found：\",i)\n",
    "print(\"Ending\")"
   ]
  },
  {
   "cell_type": "code",
   "execution_count": 62,
   "id": "00fa58b0",
   "metadata": {},
   "outputs": [],
   "source": [
    "Cinema_CSV = pd.DataFrame(cinema)\n",
    "Cinema_CSV.to_csv(\"cinema.csv\",index=False,encoding=\"utf_8_sig\")"
   ]
  },
  {
   "cell_type": "code",
   "execution_count": 10,
   "id": "cc03a069",
   "metadata": {},
   "outputs": [],
   "source": [
    "cinema_jason = {'cinemaId':cinema['cinemaId'],'cinemaName':cinema['cinemaName']} # for other jupyter load\n",
    "with open(\"cinema.json\",\"wt\") as f:\n",
    "    json.dump(cinema_jason,f)    "
   ]
  },
  {
   "cell_type": "code",
   "execution_count": null,
   "id": "95e3ae7a",
   "metadata": {},
   "outputs": [],
   "source": []
  }
 ],
 "metadata": {
  "kernelspec": {
   "display_name": "Python 3 (ipykernel)",
   "language": "python",
   "name": "python3"
  },
  "language_info": {
   "codemirror_mode": {
    "name": "ipython",
    "version": 3
   },
   "file_extension": ".py",
   "mimetype": "text/x-python",
   "name": "python",
   "nbconvert_exporter": "python",
   "pygments_lexer": "ipython3",
   "version": "3.10.7"
  }
 },
 "nbformat": 4,
 "nbformat_minor": 5
}

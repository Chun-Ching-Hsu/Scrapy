{
 "cells": [
  {
   "cell_type": "code",
   "execution_count": 7,
   "id": "e31d5893",
   "metadata": {},
   "outputs": [],
   "source": [
    "import os\n",
    "import requests as rq\n",
    "import pandas as pd\n",
    "import numpy as np\n",
    "import json\n",
    "import re\n",
    "from bs4 import BeautifulSoup\n",
    "from tqdm import tqdm,trange\n",
    "from PIL import Image"
   ]
  },
  {
   "cell_type": "code",
   "execution_count": 2,
   "id": "745be152",
   "metadata": {},
   "outputs": [],
   "source": [
    "Jump = [] # 只有第一次要跑"
   ]
  },
  {
   "cell_type": "code",
   "execution_count": 19,
   "id": "7e9d0707",
   "metadata": {},
   "outputs": [],
   "source": [
    "cinema = {\n",
    "    \"cinemaId\":[],\n",
    "    \"cinemaAddress\":[], \n",
    "    \"cinemaName\":[], \n",
    "    \"cinemaTele\":[],\n",
    "    \"cinemaImg\":[],\n",
    "    \"cinemaBusTwo\":[],\n",
    "    \"cinemaInfo\":[],\n",
    "    \"cinemaGoogle\":[]  # iframe\n",
    "}\n",
    "root = 'https://www.vscinemas.com.tw/vsweb'  # get img url\n",
    "path = r\"C:\\Users\\User\\Desktop\\Cinema_Img\"\n",
    "num = 0\n",
    "\n",
    "# 要新增更多Img部分"
   ]
  },
  {
   "cell_type": "code",
   "execution_count": 20,
   "id": "ba6dc129",
   "metadata": {
    "scrolled": true
   },
   "outputs": [
    {
     "name": "stderr",
     "output_type": "stream",
     "text": [
      " 26%|█████████████████████                                                            | 26/100 [00:45<02:08,  1.74s/it]"
     ]
    },
    {
     "name": "stdout",
     "output_type": "stream",
     "text": [
      "Ending\n"
     ]
    },
    {
     "name": "stderr",
     "output_type": "stream",
     "text": [
      "\n"
     ]
    }
   ],
   "source": [
    "for i in tqdm(range (0,100)):\n",
    "    if i in Jump:\n",
    "        continue\n",
    "    resp = rq.get(\n",
    "        f\"https://www.vscinemas.com.tw/vsweb/theater/detail.aspx?id={i}\"\n",
    "    )\n",
    "    content = BeautifulSoup(resp.text, \"html.parser\")\n",
    "    try:\n",
    "        cinemaTele = content.select_one('div.theaterPosition article.article div.leftBox ul li.icon-phone p').text\n",
    "        cinemaAddress = content.select_one('div.theaterPosition article.article div.leftBox ul li.icon-marker p').text\n",
    "        # 交通資訊大家格式都不太一樣，有的有全形的-，有的不是 所以換兩次\n",
    "        cinemaBusTwo = content.select_one('div.theaterPosition article.article div.leftBox ul li.icon-bus-two p').text.replace(\" －\",'\\n').replace('－',\"\").replace(\"-\",\"\")\n",
    "        cinemaGoogle = content.select_one('div.theaterPosition article.article section.rightMap iframe').get('src')\n",
    "        # 相關資訊也是，每座的影廳都有放不同位置\n",
    "        cinemaInfo = content.select('div.theaterStory article.article div.bbsArticle p')[0].text\n",
    "        if cinemaInfo =='\\n'or cinemaInfo =='\\xa0' or cinemaInfo =='':\n",
    "            cinemaInfo = content.select('div.theaterStory article.article div.bbsArticle p')[1].text\n",
    "            \n",
    "        cinemaName = content.select('section.crumbArea div.crumb span')[2].text\n",
    "        cinemaName = re.sub('[a-zA-Z]','',cinemaName).replace(\" \",\"\")\n",
    "        Img = content.select_one('section.theaterBanner img').get('src').replace(\"..\",root)\n",
    "        Img = rq.get(Img)\n",
    "        if not os.path.exists(path):\n",
    "            os.mkdir(path)\n",
    "        with open(f\"{path}\\_{cinemaName}.jpg\",\"wb\") as file:\n",
    "            file.write(Img.content)\n",
    "            Img = Image.open(f\"{path}\\_{cinemaName}.jpg\")\n",
    "            cinemaImg = f\"{path}\\_{cinemaName}.jpg\"\n",
    "        cinema['cinemaAddress'].append(cinemaAddress)\n",
    "        cinema['cinemaBusTwo'].append(cinemaBusTwo)\n",
    "        cinema['cinemaGoogle'].append(cinemaGoogle)\n",
    "        cinema['cinemaId'].append(i)\n",
    "        cinema['cinemaImg'].append(cinemaImg)\n",
    "        cinema['cinemaInfo'].append(cinemaInfo)\n",
    "        cinema['cinemaName'].append(cinemaName)\n",
    "        cinema['cinemaTele'].append(cinemaTele)\n",
    "        num += 1\n",
    "        if num == 17:\n",
    "            break\n",
    "    except:\n",
    "        Jump.append(i)\n",
    "        print(\"Not found：\",i)\n",
    "print(\"Ending\")"
   ]
  },
  {
   "cell_type": "code",
   "execution_count": 62,
   "id": "00fa58b0",
   "metadata": {},
   "outputs": [],
   "source": [
    "Cinema_CSV = pd.DataFrame(cinema)\n",
    "Cinema_CSV.to_csv(\"cinema.csv\",index=False,encoding=\"utf_8_sig\")"
   ]
  },
  {
   "cell_type": "code",
   "execution_count": 22,
   "id": "cc03a069",
   "metadata": {},
   "outputs": [],
   "source": [
    "cinema_jason = {'cinemaId':cinema['cinemaId'],'cinemaName':cinema['cinemaName']} # for other jupyter load\n",
    "with open(\"cinema.json\",\"wt\") as f:\n",
    "    json.dump(cinema_jason,f)    "
   ]
  },
  {
   "cell_type": "code",
   "execution_count": 21,
   "id": "95e3ae7a",
   "metadata": {},
   "outputs": [
    {
     "data": {
      "text/plain": [
       "['台北信義威秀影城',\n",
       " '台北京站威秀影城',\n",
       " '板橋大遠百威秀影城',\n",
       " '林口威秀影城',\n",
       " '新竹大遠百威秀影城',\n",
       " '新竹巨城威秀影城',\n",
       " '頭份尚順威秀影城',\n",
       " '台中大遠百威秀影城',\n",
       " '台中威秀影城',\n",
       " '台南大遠百威秀影城',\n",
       " '台南南紡威秀影城',\n",
       " '高雄大遠百威秀影城',\n",
       " '桃園統領威秀影城',\n",
       " '花蓮新天堂樂園威秀影城',\n",
       " '台南威秀影城',\n",
       " '中和環球威秀影城',\n",
       " '台中大魯閣新時代威秀影城']"
      ]
     },
     "execution_count": 21,
     "metadata": {},
     "output_type": "execute_result"
    }
   ],
   "source": [
    "cinema['cinemaName']"
   ]
  },
  {
   "cell_type": "code",
   "execution_count": 15,
   "id": "b17b5c9f",
   "metadata": {},
   "outputs": [],
   "source": [
    "s = '林口  威秀影城'\n",
    "s = s.replace(\" \",\"\")"
   ]
  },
  {
   "cell_type": "code",
   "execution_count": 16,
   "id": "89f98872",
   "metadata": {},
   "outputs": [
    {
     "data": {
      "text/plain": [
       "'林口威秀影城'"
      ]
     },
     "execution_count": 16,
     "metadata": {},
     "output_type": "execute_result"
    }
   ],
   "source": [
    "s"
   ]
  },
  {
   "cell_type": "code",
   "execution_count": null,
   "id": "f436437f",
   "metadata": {},
   "outputs": [],
   "source": []
  }
 ],
 "metadata": {
  "kernelspec": {
   "display_name": "Python 3 (ipykernel)",
   "language": "python",
   "name": "python3"
  },
  "language_info": {
   "codemirror_mode": {
    "name": "ipython",
    "version": 3
   },
   "file_extension": ".py",
   "mimetype": "text/x-python",
   "name": "python",
   "nbconvert_exporter": "python",
   "pygments_lexer": "ipython3",
   "version": "3.10.7"
  }
 },
 "nbformat": 4,
 "nbformat_minor": 5
}

{
 "cells": [
  {
   "cell_type": "code",
   "execution_count": 17,
   "id": "e31d5893",
   "metadata": {},
   "outputs": [],
   "source": [
    "import os\n",
    "import requests as rq\n",
    "import pandas as pd\n",
    "import numpy as np\n",
    "import json\n",
    "import re\n",
    "from bs4 import BeautifulSoup\n",
    "from tqdm import tqdm,trange\n",
    "from PIL import Image"
   ]
  },
  {
   "cell_type": "code",
   "execution_count": 18,
   "id": "745be152",
   "metadata": {},
   "outputs": [],
   "source": [
    "Jump = [] # 只有第一次要跑"
   ]
  },
  {
   "cell_type": "code",
   "execution_count": 19,
   "id": "7e9d0707",
   "metadata": {},
   "outputs": [],
   "source": [
    "cinema = {\n",
    "    \"cinemaId\":[],  # A-Z\n",
    "    \"cinemaAddress\":[], \n",
    "    \"cinemaName\":[], \n",
    "    \"cinemaTele\":[],\n",
    "    \"cinemaImg\":[],\n",
    "    \"cinemaBusTwo\":[],\n",
    "    \"cinemaInfo\":[],\n",
    "    \"cinemaGoogle\":[]  # iframe use in html tag\n",
    "}\n",
    "root = 'https://www.vscinemas.com.tw/vsweb'  # get img url\n",
    "path = r\"C:\\Users\\User\\Desktop\\Cinema_Img\"   # yourself u want save\n",
    "num = 0 # total cinema eq 17"
   ]
  },
  {
   "cell_type": "code",
   "execution_count": 20,
   "id": "ba6dc129",
   "metadata": {
    "scrolled": true
   },
   "outputs": [
    {
     "name": "stderr",
     "output_type": "stream",
     "text": [
      "  1%|▊                                                                                 | 1/100 [00:00<00:53,  1.84it/s]"
     ]
    },
    {
     "name": "stdout",
     "output_type": "stream",
     "text": [
      "Not found： 0\n"
     ]
    },
    {
     "name": "stderr",
     "output_type": "stream",
     "text": [
      "  4%|███▎                                                                              | 4/100 [00:08<03:01,  1.89s/it]"
     ]
    },
    {
     "name": "stdout",
     "output_type": "stream",
     "text": [
      "Not found： 3\n"
     ]
    },
    {
     "name": "stderr",
     "output_type": "stream",
     "text": [
      "  7%|█████▋                                                                            | 7/100 [00:14<02:42,  1.75s/it]"
     ]
    },
    {
     "name": "stdout",
     "output_type": "stream",
     "text": [
      "Not found： 6\n"
     ]
    },
    {
     "name": "stderr",
     "output_type": "stream",
     "text": [
      "  9%|███████▍                                                                          | 9/100 [00:18<02:34,  1.70s/it]"
     ]
    },
    {
     "name": "stdout",
     "output_type": "stream",
     "text": [
      "Not found： 8\n"
     ]
    },
    {
     "name": "stderr",
     "output_type": "stream",
     "text": [
      " 14%|███████████▎                                                                     | 14/100 [00:29<02:46,  1.93s/it]"
     ]
    },
    {
     "name": "stdout",
     "output_type": "stream",
     "text": [
      "Not found： 13\n"
     ]
    },
    {
     "name": "stderr",
     "output_type": "stream",
     "text": [
      "\r",
      " 15%|████████████▏                                                                    | 15/100 [00:29<02:08,  1.51s/it]"
     ]
    },
    {
     "name": "stdout",
     "output_type": "stream",
     "text": [
      "Not found： 14\n"
     ]
    },
    {
     "name": "stderr",
     "output_type": "stream",
     "text": [
      " 18%|██████████████▌                                                                  | 18/100 [00:37<02:30,  1.84s/it]"
     ]
    },
    {
     "name": "stdout",
     "output_type": "stream",
     "text": [
      "Not found： 17\n"
     ]
    },
    {
     "name": "stderr",
     "output_type": "stream",
     "text": [
      " 20%|████████████████▏                                                                | 20/100 [00:42<02:53,  2.17s/it]"
     ]
    },
    {
     "name": "stdout",
     "output_type": "stream",
     "text": [
      "Not found： 19\n"
     ]
    },
    {
     "name": "stderr",
     "output_type": "stream",
     "text": [
      " 24%|███████████████████▍                                                             | 24/100 [00:52<02:24,  1.90s/it]"
     ]
    },
    {
     "name": "stdout",
     "output_type": "stream",
     "text": [
      "Not found： 23\n"
     ]
    },
    {
     "name": "stderr",
     "output_type": "stream",
     "text": [
      "\r",
      " 25%|████████████████████▎                                                            | 25/100 [00:52<01:55,  1.54s/it]"
     ]
    },
    {
     "name": "stdout",
     "output_type": "stream",
     "text": [
      "Not found： 24\n"
     ]
    },
    {
     "name": "stderr",
     "output_type": "stream",
     "text": [
      " 26%|█████████████████████                                                            | 26/100 [00:55<02:38,  2.15s/it]"
     ]
    },
    {
     "name": "stdout",
     "output_type": "stream",
     "text": [
      "Ending\n"
     ]
    },
    {
     "name": "stderr",
     "output_type": "stream",
     "text": [
      "\n"
     ]
    }
   ],
   "source": [
    "for i in tqdm(range (0,100)):\n",
    "    if i in Jump:\n",
    "        continue\n",
    "    resp = rq.get(\n",
    "        f\"https://www.vscinemas.com.tw/vsweb/theater/detail.aspx?id={i}\"\n",
    "    )\n",
    "    content = BeautifulSoup(resp.text, \"html.parser\")\n",
    "    try:\n",
    "        cinemaTele = content.select_one('div.theaterPosition article.article div.leftBox ul li.icon-phone p').text\n",
    "        cinemaAddress = content.select_one('div.theaterPosition article.article div.leftBox ul li.icon-marker p').text\n",
    "        # 交通資訊大家格式都不太一樣，有的有全形的-，有的不是 所以換兩次\n",
    "        cinemaBusTwo = content.select_one('div.theaterPosition article.article div.leftBox ul li.icon-bus-two p').text.replace(\" －\",'\\n').replace('－',\"\").replace(\"-\",\"\")\n",
    "        cinemaGoogle = content.select_one('div.theaterPosition article.article section.rightMap iframe').get('src')\n",
    "        # 相關資訊也是，每座的影廳都有放不同位置\n",
    "        cinemaInfo = content.select('div.theaterStory article.article div.bbsArticle p')[0].text\n",
    "        if cinemaInfo =='\\n'or cinemaInfo =='\\xa0' or cinemaInfo =='':\n",
    "            cinemaInfo = content.select('div.theaterStory article.article div.bbsArticle p')[1].text\n",
    "            \n",
    "        cinemaName = content.select('section.crumbArea div.crumb span')[2].text\n",
    "        cinemaName = re.sub('[a-zA-Z]','',cinemaName).replace(\" \",\"\")\n",
    "        Img = content.select_one('section.theaterBanner img').get('src').replace(\"..\",root)\n",
    "        Img = rq.get(Img)\n",
    "        if not os.path.exists(path):\n",
    "            os.mkdir(path)\n",
    "        with open(f\"{path}\\_{cinemaName}.jpg\",\"wb\") as file:\n",
    "            file.write(Img.content)\n",
    "            Img = Image.open(f\"{path}\\_{cinemaName}.jpg\")\n",
    "            cinemaImg = f\"{path}\\_{cinemaName}.jpg\"\n",
    "        cinema['cinemaAddress'].append(cinemaAddress)\n",
    "        cinema['cinemaBusTwo'].append(cinemaBusTwo)\n",
    "        cinema['cinemaGoogle'].append(cinemaGoogle)\n",
    "        cinema['cinemaId'].append(chr(i+64))  # 1 = A so on....台中太魯閣最後一個為26=Z\n",
    "        cinema['cinemaImg'].append(cinemaImg)\n",
    "        cinema['cinemaInfo'].append(cinemaInfo)\n",
    "        cinema['cinemaName'].append(cinemaName)\n",
    "        cinema['cinemaTele'].append(cinemaTele)\n",
    "        num += 1\n",
    "        if num == 17:\n",
    "            break\n",
    "    except:\n",
    "        Jump.append(i)\n",
    "        print(\"Not found：\",i)\n",
    "print(\"Ending\")"
   ]
  },
  {
   "cell_type": "code",
   "execution_count": 22,
   "id": "00fa58b0",
   "metadata": {},
   "outputs": [],
   "source": [
    "# to csv file\n",
    "Cinema_CSV = pd.DataFrame(cinema)\n",
    "Cinema_CSV.to_csv(\"cinema.csv\",index=False,encoding=\"utf_8_sig\")"
   ]
  },
  {
   "cell_type": "code",
   "execution_count": 23,
   "id": "cc03a069",
   "metadata": {},
   "outputs": [],
   "source": [
    "# to jason file, cuz another ipynb will used\n",
    "cinema_jason = {'cinemaId':cinema['cinemaId'],'cinemaName':cinema['cinemaName']} # for other jupyter load\n",
    "with open(\"cinema.json\",\"wt\") as f:\n",
    "    json.dump(cinema_jason,f)    "
   ]
  },
  {
   "cell_type": "code",
   "execution_count": 24,
   "id": "95e3ae7a",
   "metadata": {},
   "outputs": [
    {
     "data": {
      "text/html": [
       "<div>\n",
       "<style scoped>\n",
       "    .dataframe tbody tr th:only-of-type {\n",
       "        vertical-align: middle;\n",
       "    }\n",
       "\n",
       "    .dataframe tbody tr th {\n",
       "        vertical-align: top;\n",
       "    }\n",
       "\n",
       "    .dataframe thead th {\n",
       "        text-align: right;\n",
       "    }\n",
       "</style>\n",
       "<table border=\"1\" class=\"dataframe\">\n",
       "  <thead>\n",
       "    <tr style=\"text-align: right;\">\n",
       "      <th></th>\n",
       "      <th>cinemaId</th>\n",
       "      <th>cinemaAddress</th>\n",
       "      <th>cinemaName</th>\n",
       "      <th>cinemaTele</th>\n",
       "      <th>cinemaImg</th>\n",
       "      <th>cinemaBusTwo</th>\n",
       "      <th>cinemaInfo</th>\n",
       "      <th>cinemaGoogle</th>\n",
       "    </tr>\n",
       "  </thead>\n",
       "  <tbody>\n",
       "    <tr>\n",
       "      <th>0</th>\n",
       "      <td>A</td>\n",
       "      <td>台北市信義區松壽路20號</td>\n",
       "      <td>台北信義威秀影城</td>\n",
       "      <td>(02) 8780-5566</td>\n",
       "      <td>C:\\Users\\User\\Desktop\\Cinema_Img\\_台北信義威秀影城.jpg</td>\n",
       "      <td>捷運：市政府站3號出口、捷運象山站 1號出口、台北101/世貿站4號出口\\n公車︰可搭乘 2...</td>\n",
       "      <td>台北信義威秀影城內有時髦前衛、聲光炫麗的裝潢，為全國第一座專門為放映電影而量身打造的建築設計...</td>\n",
       "      <td>https://www.google.com/maps?t=m&amp;hl=zh-TW&amp;gl=TW...</td>\n",
       "    </tr>\n",
       "    <tr>\n",
       "      <th>1</th>\n",
       "      <td>B</td>\n",
       "      <td>台北市大同區市民大道一段209號5樓</td>\n",
       "      <td>台北京站威秀影城</td>\n",
       "      <td>(02) 2552-5511</td>\n",
       "      <td>C:\\Users\\User\\Desktop\\Cinema_Img\\_台北京站威秀影城.jpg</td>\n",
       "      <td>捷運/高鐵/台鐵：台北車站站，往中山地下街方向至R1出口，或經台北地下街Y1、Y3、Y5出口...</td>\n",
       "      <td>台北京站威秀影城為威秀影城全省第八家影城，也是正式更名為威秀影城後，第一家全新開幕的影城。座...</td>\n",
       "      <td>https://www.google.com/maps?t=m&amp;hl=zh-TW&amp;gl=TW...</td>\n",
       "    </tr>\n",
       "    <tr>\n",
       "      <th>2</th>\n",
       "      <td>D</td>\n",
       "      <td>新北市板橋區新站路28號10樓</td>\n",
       "      <td>板橋大遠百威秀影城</td>\n",
       "      <td>(02) 7738-6608</td>\n",
       "      <td>C:\\Users\\User\\Desktop\\Cinema_Img\\_板橋大遠百威秀影城.jpg</td>\n",
       "      <td>捷運/高鐵/台鐵：板橋站3 A 出口，往台鐵1F東2門方向右轉步行約3~5分鐘，或由台鐵B1...</td>\n",
       "      <td>板橋大遠百威秀影城是威秀影城於新北市的第一個據點。座落於新板特區板橋大遠百複合式商場內的10...</td>\n",
       "      <td>https://www.google.com/maps?t=m&amp;hl=zh-TW&amp;gl=TW...</td>\n",
       "    </tr>\n",
       "    <tr>\n",
       "      <th>3</th>\n",
       "      <td>E</td>\n",
       "      <td>新北市林口區文化三路一段356號3樓</td>\n",
       "      <td>林口威秀影城</td>\n",
       "      <td>(02) 2606-8099</td>\n",
       "      <td>C:\\Users\\User\\Desktop\\Cinema_Img\\_林口威秀影城.jpg</td>\n",
       "      <td>公車：1)台北前往可搭乘：786、858、898、920、925、936、937、945、9...</td>\n",
       "      <td>林口MITSUI OUTLET PARK威秀影城，為威秀影城以開創性概念打造的全新據點。\\r...</td>\n",
       "      <td>https://www.google.com/maps?t=m&amp;hl=zh-TW&amp;gl=TW...</td>\n",
       "    </tr>\n",
       "    <tr>\n",
       "      <th>4</th>\n",
       "      <td>G</td>\n",
       "      <td>新竹市西大路323號8樓</td>\n",
       "      <td>新竹大遠百威秀影城</td>\n",
       "      <td>(03) 524-1166</td>\n",
       "      <td>C:\\Users\\User\\Desktop\\Cinema_Img\\_新竹大遠百威秀影城.jpg</td>\n",
       "      <td>開車：新竹交流道→光復路往市區方向→食品路左轉→西大路右轉即可到達公車︰可搭乘 5號公車至「...</td>\n",
       "      <td>新竹大遠百威秀影城位於新竹市西大路大遠百娛樂城8樓及10樓，引進世界級的影音設備，同步上映全...</td>\n",
       "      <td>https://www.google.com/maps?t=m&amp;hl=zh-TW&amp;gl=TW...</td>\n",
       "    </tr>\n",
       "    <tr>\n",
       "      <th>5</th>\n",
       "      <td>I</td>\n",
       "      <td>新竹市民權路176號4樓之3</td>\n",
       "      <td>新竹巨城威秀影城</td>\n",
       "      <td>(03) 534-6999</td>\n",
       "      <td>C:\\Users\\User\\Desktop\\Cinema_Img\\_新竹巨城威秀影城.jpg</td>\n",
       "      <td>開車：新竹交流道→光復路往市區方向→民族路右轉→中央路右轉即可到達公車︰可搭乘 52號或53...</td>\n",
       "      <td>新竹巨城威秀影城位於新竹最大的百貨購物中心，這個以「家」的視覺風格為主要設計，採用木質色系裝...</td>\n",
       "      <td>https://www.google.com/maps?t=m&amp;hl=zh-TW&amp;gl=TW...</td>\n",
       "    </tr>\n",
       "    <tr>\n",
       "      <th>6</th>\n",
       "      <td>J</td>\n",
       "      <td>苗栗縣頭份市中央路105號7樓</td>\n",
       "      <td>頭份尚順威秀影城</td>\n",
       "      <td>(037) 686-866</td>\n",
       "      <td>C:\\Users\\User\\Desktop\\Cinema_Img\\_頭份尚順威秀影城.jpg</td>\n",
       "      <td>開車：國道一號南上或北下，由頭份交流道下車程約5分鐘即可抵達台鐵：由台鐵竹南站下車後搭乘苗栗...</td>\n",
       "      <td>苗栗尚順威秀影城，讓座落在山中之城的這塊土地擁有電影養份；本影城呼應素有山城之稱的苗栗，打造...</td>\n",
       "      <td>https://www.google.com/maps?t=m&amp;hl=zh-TW&amp;gl=TW...</td>\n",
       "    </tr>\n",
       "    <tr>\n",
       "      <th>7</th>\n",
       "      <td>K</td>\n",
       "      <td>台中市西屯區台灣大道三段251號13樓</td>\n",
       "      <td>台中大遠百威秀影城</td>\n",
       "      <td>(04) 2258-8511</td>\n",
       "      <td>C:\\Users\\User\\Desktop\\Cinema_Img\\_台中大遠百威秀影城.jpg</td>\n",
       "      <td>開車：1)中山高速公路台中交流道(台中、沙鹿))下往台中市方向2)中彰快速公路市政路出口下交...</td>\n",
       "      <td>台中大遠百威秀影城為2011年底於台中增設的第三個據點，這座中台灣最新的複合式影城以原野大地...</td>\n",
       "      <td>https://www.google.com/maps?t=m&amp;hl=zh-TW&amp;gl=TW...</td>\n",
       "    </tr>\n",
       "    <tr>\n",
       "      <th>8</th>\n",
       "      <td>L</td>\n",
       "      <td>台中市西屯區河南路三段120-1號4樓</td>\n",
       "      <td>台中威秀影城</td>\n",
       "      <td>(04) 3606-5566</td>\n",
       "      <td>C:\\Users\\User\\Desktop\\Cinema_Img\\_台中威秀影城.jpg</td>\n",
       "      <td>公車︰《高鐵台中站前往》1.轉乘往「台中市區」路線，至「秋紅谷」站下車，步行約5分鐘。2.豐...</td>\n",
       "      <td>TIGER CITY威秀影城於2011年11月25日全新改裝開幕，眾所矚目的大台中首座商用數...</td>\n",
       "      <td>https://www.google.com/maps?t=m&amp;hl=zh-TW&amp;gl=TW...</td>\n",
       "    </tr>\n",
       "    <tr>\n",
       "      <th>9</th>\n",
       "      <td>O</td>\n",
       "      <td>台南市公園路60號5樓</td>\n",
       "      <td>台南大遠百威秀影城</td>\n",
       "      <td>(06) 600-5566</td>\n",
       "      <td>C:\\Users\\User\\Desktop\\Cinema_Img\\_台南大遠百威秀影城.jpg</td>\n",
       "      <td>公車：可搭乘台南市公車至「台南大遠百」站下車</td>\n",
       "      <td>威秀影城於2002年7月5日正式在府城台南開幕，這座在台南核心地帶的威秀影城始終是年輕學生族...</td>\n",
       "      <td>https://www.google.com/maps?t=m&amp;hl=zh-TW&amp;gl=TW...</td>\n",
       "    </tr>\n",
       "    <tr>\n",
       "      <th>10</th>\n",
       "      <td>P</td>\n",
       "      <td>A1館(1~11廳):台南市東區中華東路一段366號5樓A2館(21~25廳):台南市東區中...</td>\n",
       "      <td>台南南紡威秀影城</td>\n",
       "      <td>(06) 237-2255</td>\n",
       "      <td>C:\\Users\\User\\Desktop\\Cinema_Img\\_台南南紡威秀影城.jpg</td>\n",
       "      <td>公車：可搭乘15號至「南紡購物中心」站下車，或搭乘６號至「後甲圓環」站下車客運：可搭乘興南客...</td>\n",
       "      <td>威秀影城以最高規格配備打造台南南紡威秀影城，讓觀影享受全面升級，一次到位！</td>\n",
       "      <td>https://www.google.com/maps?t=m&amp;hl=zh-TW&amp;gl=TW...</td>\n",
       "    </tr>\n",
       "    <tr>\n",
       "      <th>11</th>\n",
       "      <td>R</td>\n",
       "      <td>高雄市苓雅區三多四路21號13樓 (大遠百購物中心)</td>\n",
       "      <td>高雄大遠百威秀影城</td>\n",
       "      <td>(07) 334-5566</td>\n",
       "      <td>C:\\Users\\User\\Desktop\\Cinema_Img\\_高雄大遠百威秀影城.jpg</td>\n",
       "      <td>捷運：捷運三多商圈1號出口公車︰可搭乘 12, 70, 83, 100, 紅16, 紅18,...</td>\n",
       "      <td>座落於市中心精華區的高雄威秀影城，地處高雄百貨匯集區，縱貫高雄大遠百13樓至16樓的樓層面積...</td>\n",
       "      <td>https://www.google.com/maps?t=m&amp;hl=zh-TW&amp;gl=TW...</td>\n",
       "    </tr>\n",
       "    <tr>\n",
       "      <th>12</th>\n",
       "      <td>T</td>\n",
       "      <td>桃園市桃園區中正路61號9樓 (統領百貨)</td>\n",
       "      <td>桃園統領威秀影城</td>\n",
       "      <td>(03) 333-3232</td>\n",
       "      <td>C:\\Users\\User\\Desktop\\Cinema_Img\\_桃園統領威秀影城.jpg</td>\n",
       "      <td>開車：1.      中山高速公路南崁交流道下，車程約20分鐘即可抵達。2.      北二...</td>\n",
       "      <td>位於桃園火車站人潮聚集處的統領百貨，組成客層多元化。舉凡學生族群到新住民、新移工、粉領族及親...</td>\n",
       "      <td>https://www.google.com/maps?t=m&amp;hl=zh-TW&amp;gl=TW...</td>\n",
       "    </tr>\n",
       "    <tr>\n",
       "      <th>13</th>\n",
       "      <td>U</td>\n",
       "      <td>花蓮縣吉安鄉南濱路一段503號3樓 (花蓮新天堂樂園購物商場)</td>\n",
       "      <td>花蓮新天堂樂園威秀影城</td>\n",
       "      <td>(03) 842-1133</td>\n",
       "      <td>C:\\Users\\User\\Desktop\\Cinema_Img\\_花蓮新天堂樂園威秀影城.jpg</td>\n",
       "      <td>影城坐落於花蓮主幹道之一的南濱路上，建議自行開車前往。市區可搭乘太魯閣客運301【東華大學花...</td>\n",
       "      <td>身為台灣影城的領導品牌，為了給影迷最佳觀影體驗，花蓮新天堂樂園威秀影城更結合IMAX雷射影廳...</td>\n",
       "      <td>https://www.google.com/maps?t=m&amp;hl=zh-TW&amp;gl=TW...</td>\n",
       "    </tr>\n",
       "    <tr>\n",
       "      <th>14</th>\n",
       "      <td>V</td>\n",
       "      <td>台南市中西區中山路166號11樓</td>\n",
       "      <td>台南威秀影城</td>\n",
       "      <td>(06)-222-3566</td>\n",
       "      <td>C:\\Users\\User\\Desktop\\Cinema_Img\\_台南威秀影城.jpg</td>\n",
       "      <td>客運：國光、統聯等客運至台南火車站前的北門路，往路行圓環中山路方向約五分鐘，即可到達。自行開...</td>\n",
       "      <td>威秀影城於台南市的第三個據點：台南FOCUS威秀影城。 \\r\\n本據點以簡約時尚打造出這座年...</td>\n",
       "      <td>https://www.google.com/maps?t=m&amp;hl=zh-TW&amp;gl=TW...</td>\n",
       "    </tr>\n",
       "    <tr>\n",
       "      <th>15</th>\n",
       "      <td>Y</td>\n",
       "      <td>新北市中和區中山路三段122號4樓 (Global Mall新北中和)</td>\n",
       "      <td>中和環球威秀影城</td>\n",
       "      <td>(02)8226-6063</td>\n",
       "      <td>C:\\Users\\User\\Desktop\\Cinema_Img\\_中和環球威秀影城.jpg</td>\n",
       "      <td>捷運/高鐵/台鐵：捷運至板橋車站或新埔站換搭免費接駁車。公車︰可搭乘307、57(Globa...</td>\n",
       "      <td>威秀影城於環球購物中心新北中和店，推出10座嶄新雷射影廳，座位數1,360席，帶給中永和及鄰...</td>\n",
       "      <td>https://www.google.com/maps?t=m&amp;hl=zh-TW&amp;gl=TW...</td>\n",
       "    </tr>\n",
       "    <tr>\n",
       "      <th>16</th>\n",
       "      <td>Z</td>\n",
       "      <td>台中市東區復興路四段186號4樓 (台中大魯閣新時代購物中心)</td>\n",
       "      <td>台中大魯閣新時代威秀影城</td>\n",
       "      <td>(04)2228-0388</td>\n",
       "      <td>C:\\Users\\User\\Desktop\\Cinema_Img\\_台中大魯閣新時代威秀影城...</td>\n",
       "      <td>自行開車國道一號：中港交流道→台灣大道→建國路→台中路→復興路→大魯閣新時代購物中心。國道三...</td>\n",
       "      <td>威秀影城於大魯閣新時代購物中心台中店推出9座影廳，座位數逾1,781席，包括一個杜比ATMO...</td>\n",
       "      <td>https://www.google.com/maps?t=m&amp;hl=zh-TW&amp;gl=TW...</td>\n",
       "    </tr>\n",
       "  </tbody>\n",
       "</table>\n",
       "</div>"
      ],
      "text/plain": [
       "   cinemaId                                      cinemaAddress    cinemaName  \\\n",
       "0         A                                       台北市信義區松壽路20號      台北信義威秀影城   \n",
       "1         B                                 台北市大同區市民大道一段209號5樓      台北京站威秀影城   \n",
       "2         D                                    新北市板橋區新站路28號10樓     板橋大遠百威秀影城   \n",
       "3         E                                 新北市林口區文化三路一段356號3樓        林口威秀影城   \n",
       "4         G                                       新竹市西大路323號8樓     新竹大遠百威秀影城   \n",
       "5         I                                     新竹市民權路176號4樓之3      新竹巨城威秀影城   \n",
       "6         J                                    苗栗縣頭份市中央路105號7樓      頭份尚順威秀影城   \n",
       "7         K                                台中市西屯區台灣大道三段251號13樓     台中大遠百威秀影城   \n",
       "8         L                                台中市西屯區河南路三段120-1號4樓        台中威秀影城   \n",
       "9         O                                        台南市公園路60號5樓     台南大遠百威秀影城   \n",
       "10        P  A1館(1~11廳):台南市東區中華東路一段366號5樓A2館(21~25廳):台南市東區中...      台南南紡威秀影城   \n",
       "11        R                         高雄市苓雅區三多四路21號13樓 (大遠百購物中心)     高雄大遠百威秀影城   \n",
       "12        T                              桃園市桃園區中正路61號9樓 (統領百貨)      桃園統領威秀影城   \n",
       "13        U                    花蓮縣吉安鄉南濱路一段503號3樓 (花蓮新天堂樂園購物商場)   花蓮新天堂樂園威秀影城   \n",
       "14        V                                   台南市中西區中山路166號11樓        台南威秀影城   \n",
       "15        Y                新北市中和區中山路三段122號4樓 (Global Mall新北中和)      中和環球威秀影城   \n",
       "16        Z                    台中市東區復興路四段186號4樓 (台中大魯閣新時代購物中心)  台中大魯閣新時代威秀影城   \n",
       "\n",
       "        cinemaTele                                          cinemaImg  \\\n",
       "0   (02) 8780-5566     C:\\Users\\User\\Desktop\\Cinema_Img\\_台北信義威秀影城.jpg   \n",
       "1   (02) 2552-5511     C:\\Users\\User\\Desktop\\Cinema_Img\\_台北京站威秀影城.jpg   \n",
       "2   (02) 7738-6608    C:\\Users\\User\\Desktop\\Cinema_Img\\_板橋大遠百威秀影城.jpg   \n",
       "3   (02) 2606-8099       C:\\Users\\User\\Desktop\\Cinema_Img\\_林口威秀影城.jpg   \n",
       "4    (03) 524-1166    C:\\Users\\User\\Desktop\\Cinema_Img\\_新竹大遠百威秀影城.jpg   \n",
       "5    (03) 534-6999     C:\\Users\\User\\Desktop\\Cinema_Img\\_新竹巨城威秀影城.jpg   \n",
       "6    (037) 686-866     C:\\Users\\User\\Desktop\\Cinema_Img\\_頭份尚順威秀影城.jpg   \n",
       "7   (04) 2258-8511    C:\\Users\\User\\Desktop\\Cinema_Img\\_台中大遠百威秀影城.jpg   \n",
       "8   (04) 3606-5566       C:\\Users\\User\\Desktop\\Cinema_Img\\_台中威秀影城.jpg   \n",
       "9    (06) 600-5566    C:\\Users\\User\\Desktop\\Cinema_Img\\_台南大遠百威秀影城.jpg   \n",
       "10   (06) 237-2255     C:\\Users\\User\\Desktop\\Cinema_Img\\_台南南紡威秀影城.jpg   \n",
       "11   (07) 334-5566    C:\\Users\\User\\Desktop\\Cinema_Img\\_高雄大遠百威秀影城.jpg   \n",
       "12   (03) 333-3232     C:\\Users\\User\\Desktop\\Cinema_Img\\_桃園統領威秀影城.jpg   \n",
       "13   (03) 842-1133  C:\\Users\\User\\Desktop\\Cinema_Img\\_花蓮新天堂樂園威秀影城.jpg   \n",
       "14   (06)-222-3566       C:\\Users\\User\\Desktop\\Cinema_Img\\_台南威秀影城.jpg   \n",
       "15   (02)8226-6063     C:\\Users\\User\\Desktop\\Cinema_Img\\_中和環球威秀影城.jpg   \n",
       "16   (04)2228-0388  C:\\Users\\User\\Desktop\\Cinema_Img\\_台中大魯閣新時代威秀影城...   \n",
       "\n",
       "                                         cinemaBusTwo  \\\n",
       "0   捷運：市政府站3號出口、捷運象山站 1號出口、台北101/世貿站4號出口\\n公車︰可搭乘 2...   \n",
       "1   捷運/高鐵/台鐵：台北車站站，往中山地下街方向至R1出口，或經台北地下街Y1、Y3、Y5出口...   \n",
       "2   捷運/高鐵/台鐵：板橋站3 A 出口，往台鐵1F東2門方向右轉步行約3~5分鐘，或由台鐵B1...   \n",
       "3   公車：1)台北前往可搭乘：786、858、898、920、925、936、937、945、9...   \n",
       "4   開車：新竹交流道→光復路往市區方向→食品路左轉→西大路右轉即可到達公車︰可搭乘 5號公車至「...   \n",
       "5   開車：新竹交流道→光復路往市區方向→民族路右轉→中央路右轉即可到達公車︰可搭乘 52號或53...   \n",
       "6   開車：國道一號南上或北下，由頭份交流道下車程約5分鐘即可抵達台鐵：由台鐵竹南站下車後搭乘苗栗...   \n",
       "7   開車：1)中山高速公路台中交流道(台中、沙鹿))下往台中市方向2)中彰快速公路市政路出口下交...   \n",
       "8   公車︰《高鐵台中站前往》1.轉乘往「台中市區」路線，至「秋紅谷」站下車，步行約5分鐘。2.豐...   \n",
       "9                              公車：可搭乘台南市公車至「台南大遠百」站下車   \n",
       "10  公車：可搭乘15號至「南紡購物中心」站下車，或搭乘６號至「後甲圓環」站下車客運：可搭乘興南客...   \n",
       "11  捷運：捷運三多商圈1號出口公車︰可搭乘 12, 70, 83, 100, 紅16, 紅18,...   \n",
       "12  開車：1.      中山高速公路南崁交流道下，車程約20分鐘即可抵達。2.      北二...   \n",
       "13  影城坐落於花蓮主幹道之一的南濱路上，建議自行開車前往。市區可搭乘太魯閣客運301【東華大學花...   \n",
       "14  客運：國光、統聯等客運至台南火車站前的北門路，往路行圓環中山路方向約五分鐘，即可到達。自行開...   \n",
       "15  捷運/高鐵/台鐵：捷運至板橋車站或新埔站換搭免費接駁車。公車︰可搭乘307、57(Globa...   \n",
       "16  自行開車國道一號：中港交流道→台灣大道→建國路→台中路→復興路→大魯閣新時代購物中心。國道三...   \n",
       "\n",
       "                                           cinemaInfo  \\\n",
       "0   台北信義威秀影城內有時髦前衛、聲光炫麗的裝潢，為全國第一座專門為放映電影而量身打造的建築設計...   \n",
       "1   台北京站威秀影城為威秀影城全省第八家影城，也是正式更名為威秀影城後，第一家全新開幕的影城。座...   \n",
       "2   板橋大遠百威秀影城是威秀影城於新北市的第一個據點。座落於新板特區板橋大遠百複合式商場內的10...   \n",
       "3   林口MITSUI OUTLET PARK威秀影城，為威秀影城以開創性概念打造的全新據點。\\r...   \n",
       "4   新竹大遠百威秀影城位於新竹市西大路大遠百娛樂城8樓及10樓，引進世界級的影音設備，同步上映全...   \n",
       "5   新竹巨城威秀影城位於新竹最大的百貨購物中心，這個以「家」的視覺風格為主要設計，採用木質色系裝...   \n",
       "6   苗栗尚順威秀影城，讓座落在山中之城的這塊土地擁有電影養份；本影城呼應素有山城之稱的苗栗，打造...   \n",
       "7   台中大遠百威秀影城為2011年底於台中增設的第三個據點，這座中台灣最新的複合式影城以原野大地...   \n",
       "8   TIGER CITY威秀影城於2011年11月25日全新改裝開幕，眾所矚目的大台中首座商用數...   \n",
       "9   威秀影城於2002年7月5日正式在府城台南開幕，這座在台南核心地帶的威秀影城始終是年輕學生族...   \n",
       "10              威秀影城以最高規格配備打造台南南紡威秀影城，讓觀影享受全面升級，一次到位！   \n",
       "11  座落於市中心精華區的高雄威秀影城，地處高雄百貨匯集區，縱貫高雄大遠百13樓至16樓的樓層面積...   \n",
       "12  位於桃園火車站人潮聚集處的統領百貨，組成客層多元化。舉凡學生族群到新住民、新移工、粉領族及親...   \n",
       "13  身為台灣影城的領導品牌，為了給影迷最佳觀影體驗，花蓮新天堂樂園威秀影城更結合IMAX雷射影廳...   \n",
       "14  威秀影城於台南市的第三個據點：台南FOCUS威秀影城。 \\r\\n本據點以簡約時尚打造出這座年...   \n",
       "15  威秀影城於環球購物中心新北中和店，推出10座嶄新雷射影廳，座位數1,360席，帶給中永和及鄰...   \n",
       "16  威秀影城於大魯閣新時代購物中心台中店推出9座影廳，座位數逾1,781席，包括一個杜比ATMO...   \n",
       "\n",
       "                                         cinemaGoogle  \n",
       "0   https://www.google.com/maps?t=m&hl=zh-TW&gl=TW...  \n",
       "1   https://www.google.com/maps?t=m&hl=zh-TW&gl=TW...  \n",
       "2   https://www.google.com/maps?t=m&hl=zh-TW&gl=TW...  \n",
       "3   https://www.google.com/maps?t=m&hl=zh-TW&gl=TW...  \n",
       "4   https://www.google.com/maps?t=m&hl=zh-TW&gl=TW...  \n",
       "5   https://www.google.com/maps?t=m&hl=zh-TW&gl=TW...  \n",
       "6   https://www.google.com/maps?t=m&hl=zh-TW&gl=TW...  \n",
       "7   https://www.google.com/maps?t=m&hl=zh-TW&gl=TW...  \n",
       "8   https://www.google.com/maps?t=m&hl=zh-TW&gl=TW...  \n",
       "9   https://www.google.com/maps?t=m&hl=zh-TW&gl=TW...  \n",
       "10  https://www.google.com/maps?t=m&hl=zh-TW&gl=TW...  \n",
       "11  https://www.google.com/maps?t=m&hl=zh-TW&gl=TW...  \n",
       "12  https://www.google.com/maps?t=m&hl=zh-TW&gl=TW...  \n",
       "13  https://www.google.com/maps?t=m&hl=zh-TW&gl=TW...  \n",
       "14  https://www.google.com/maps?t=m&hl=zh-TW&gl=TW...  \n",
       "15  https://www.google.com/maps?t=m&hl=zh-TW&gl=TW...  \n",
       "16  https://www.google.com/maps?t=m&hl=zh-TW&gl=TW...  "
      ]
     },
     "execution_count": 24,
     "metadata": {},
     "output_type": "execute_result"
    }
   ],
   "source": [
    "# excel preview\n",
    "Cinema_CSV"
   ]
  },
  {
   "cell_type": "code",
   "execution_count": null,
   "id": "df090718",
   "metadata": {},
   "outputs": [],
   "source": []
  }
 ],
 "metadata": {
  "kernelspec": {
   "display_name": "Python 3 (ipykernel)",
   "language": "python",
   "name": "python3"
  },
  "language_info": {
   "codemirror_mode": {
    "name": "ipython",
    "version": 3
   },
   "file_extension": ".py",
   "mimetype": "text/x-python",
   "name": "python",
   "nbconvert_exporter": "python",
   "pygments_lexer": "ipython3",
   "version": "3.10.7"
  }
 },
 "nbformat": 4,
 "nbformat_minor": 5
}
